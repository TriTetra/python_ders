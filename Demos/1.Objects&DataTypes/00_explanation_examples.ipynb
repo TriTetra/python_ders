{
 "cells": [
  {
   "cell_type": "markdown",
   "metadata": {},
   "source": [
    "#### 1. Bir müşterinin aşağıdaki bilgileri için değişken oluşturunuz\n",
    "\n",
    "- *Müşteri* adı\n",
    "- *Müşteri* soyadı\n",
    "- *Müşteri* ad + soyad\n",
    "- *Müşteri* cinsiyeti\n",
    "- *Müşteri* tc kimlik\n",
    "- *Müşteri* doğum yılı\n",
    "- *Müşteri* adres bilgisi\n",
    "- *Müşteri* yaşı "
   ]
  },
  {
   "cell_type": "markdown",
   "metadata": {},
   "source": [
    "---"
   ]
  },
  {
   "cell_type": "markdown",
   "metadata": {},
   "source": [
    "#### 2. Aşağıdaki siparişlerin toplam bilgisinin hesaplayınız\n",
    "\n",
    "- Sipariş 1 => 110      TL\n",
    "- Sipariş 2 => 1100.5   TL\n",
    "- Sipariş 3 => 356.95   TL \n",
    "- Sipariş 4 => input() fonksiyonu ile alın\n",
    "- Sipariş 5 => input() fonksiyonu ile alın\n",
    "\n",
    "Toplamlarını ekrana format olarak yazdırınız"
   ]
  },
  {
   "cell_type": "markdown",
   "metadata": {},
   "source": [
    "---"
   ]
  },
  {
   "cell_type": "markdown",
   "metadata": {},
   "source": [
    "#### 3. Daire alanı nasıl bulabiliriz \n",
    "\n",
    "- Daire Alanını   : πr^2\n",
    "- Daire Çevresini : 2πr\n",
    "\n",
    "Yukarıda yari çapı verilen bir dairenin alan ve çevresini hesaplayiniz.. (π: 3.14)\n"
   ]
  },
  {
   "cell_type": "markdown",
   "metadata": {},
   "source": [
    "---"
   ]
  },
  {
   "cell_type": "markdown",
   "metadata": {},
   "source": [
    "\n",
    "#### 4. Stringlerle işlemler \n",
    "- website = \"https://www.sadikturan.com\"\n",
    "- course = \"Python kursu : Baştan sona python programlama rehberi (40 saat)\"\n",
    "\n",
    "1. '**course'** karakter dizinin de kaç karakter bulunmaktadır ?\n",
    "2. **'website'** içinden www karakterlerini alın\n",
    "3. **'website'** içinden com karakterlerini alın\n",
    "4. **'course'** içinden ilk 15 ve son 15 karakterlerini alın\n",
    "5. **'course'** ifadesindeki karakterleri tersten yazdırın\n",
    "6. Değişkenler ile ekrana aşağıdaki ifadeyi yazdırın:\n",
    "*'Benim adım Bora Yılmaz, Yaşım 32 ve mesleğim Mühendis.*'\n",
    "7. **'Hello world'** ifadesindeki w harfini W olarak değiştirin.\n",
    "8. **'abc'** ifadesini yan yana 3 defa yazdırın   "
   ]
  },
  {
   "cell_type": "markdown",
   "metadata": {},
   "source": [
    "---"
   ]
  },
  {
   "cell_type": "markdown",
   "metadata": {},
   "source": [
    "#### 5. String ve Fonksiyonlar\n",
    "- website = \"https://www.sadikturan.com\"\n",
    "- website1 = \"www.sadikturan.com\"\n",
    "- course = \"Python kursu : Baştan sona python programlama rehberi (40 saat)\"\n",
    "\n",
    "1. **' Hello World '** karakter dizisinin baş ve sondaki boşluk karakterlerini silin.\n",
    "2. **'www.sadikturan.com'** içindeki sadikturan bilgisi haricindeki her karakteri silin.\n",
    "3. **'course'** karakter dizisinin tüm karakterlerini küçük harf yapın.\n",
    "4. **'website'** içinde kaç tane a karakteri vardır ? (count(a))\n",
    "5. **'website'** www ile başlayıp com ile bitiyor mu ?\n",
    "6. **'website'** içinde .com ifadesi var mı ?\n",
    "7. **'course'** içindeki karakterlerin hepsi alfabetik mi ? (isAlpha, isDigit)\n",
    "8. **'Contents'** ifadesini satırda 50 karakter içine yerleştirip sağ ve soluna * ekleyiniz\n",
    "9. **'course'**  karakter dizisindeki tüm boşluk karakterlerini '-' ile değiştirin"
   ]
  },
  {
   "cell_type": "markdown",
   "metadata": {},
   "source": [
    "---"
   ]
  },
  {
   "cell_type": "markdown",
   "metadata": {},
   "source": [
    "#### 6. Lists\n",
    "\n",
    "1. **\"BMW, Mercedes, Opel, Mazda\"** elemanlarına sahip bir dizi oluşturunuz.\n",
    "2. Liste kaç elemanlıdır ? \n",
    "3. Listenin ilk ve son elemanı\n",
    "4. Mazda değerini Toyota ile değiştirin\n",
    "5. Mercedes listenin bir elemanı mıdır ? \n",
    "6. Listenin -2 değeri nedir ?\n",
    "7. Listenin ilk 3 elemanını alın \n",
    "8. Listenin son 2 elemanı yerine \"Toyota\" ve \"Renault\" değerlerini ekleyin\n",
    "9. Listenin üzerine \"Audi\" ve \"Nissan\" değerini ekleyin\n",
    "10. Listenin son elemanını silin\n",
    "11. Lise elemanlarını tersten yazdırın\n",
    "12. Aşağıdaki verileri bir liste içine saklayınız<br>\n",
    "    studentA : Yiğit Bilgi 2012, (70,60,70)<br>\n",
    "    studentB : Sena Turan 1999, (80,80,70)<br>\n",
    "    studentC : Ahmet Turan 1998, (80,70,90)\n",
    "13. Liste elemanlarını ekrana yazdırınız\n"
   ]
  },
  {
   "cell_type": "markdown",
   "metadata": {},
   "source": [
    "---"
   ]
  },
  {
   "cell_type": "markdown",
   "metadata": {},
   "source": [
    "#### 7. Liste ve Fonksiyonlar\n",
    "\n",
    "names = [\"Ali\",\"Yağmur\",\"Hakan\",\"Deniz\"]<br>\n",
    "years = [1998,2000,1998,1987]\n",
    "\n",
    "1. **\"Cenk\"** ismini listenin sonuna ekleyiniz\n",
    "2. **\"Sena\"** değerini listenin başına ekleyiniz\n",
    "3. **\"Deniz\"** isminin indeksi nedir ? \n",
    "4. **\"Deniz\"** ismini listeden siliniz\n",
    "5. **\"Ali\"** listenin bir elemanı mıdır ? \n",
    "6. Liste elemanlarını ters çevirin\n",
    "7. Liste elemanlarını Alfabetik olarak sıralayınız\n",
    "8. years listesini rakamsal büyüklüğe göre sıralayınız\n",
    "9. str = \"Chevroler,Dacia\" karakter dizisini listeye çeviriniz\n",
    "10. years dizisinin en büyük ve en küçük elmanı nedir ?\n",
    "11. years dizisinde kaç tane 1998 değeri vardır ? \n",
    "12. years dizisinin tüm elemanlarını siliniz \n",
    "13. Kullanıcıdan alacağınız 3 tane marka bilgisini bir listede saklayınız"
   ]
  },
  {
   "cell_type": "markdown",
   "metadata": {},
   "source": [
    "---"
   ]
  },
  {
   "cell_type": "markdown",
   "metadata": {},
   "source": [
    "#### 8. Dictionary"
   ]
  },
  {
   "cell_type": "code",
   "execution_count": null,
   "metadata": {},
   "outputs": [],
   "source": [
    "ogrenciler = {\n",
    "    '120' : {\n",
    "        'ad' : 'Ali',\n",
    "        'soyad' : 'Yilmaz',\n",
    "        'telefon' : '532 000 00 01'\n",
    "    },\n",
    "    '125' : {\n",
    "        'ad' : 'Can',\n",
    "        'soyad' : 'Korkmaz',\n",
    "        'telefon' : '532 000 00 02'\n",
    "    },\n",
    "    '128' : {\n",
    "        'ad' : 'Volkan',\n",
    "        'soyad' : 'Yükselen',\n",
    "        'telefon' : '532 000 00 03'\n",
    "    }\n",
    "}"
   ]
  },
  {
   "cell_type": "markdown",
   "metadata": {},
   "source": [
    "1. Bilgileri verilen öğrencileri kullanicidan aldiğiniz bilgilerle dictionary içinde saklayiniz.\n",
    "2. Öğrenci numarasini kullanicidan alip ilgili öğrenci bilgisini gösterin "
   ]
  }
 ],
 "metadata": {
  "kernelspec": {
   "display_name": "Python 3",
   "language": "python",
   "name": "python3"
  },
  "language_info": {
   "codemirror_mode": {
    "name": "ipython",
    "version": 3
   },
   "file_extension": ".py",
   "mimetype": "text/x-python",
   "name": "python",
   "nbconvert_exporter": "python",
   "pygments_lexer": "ipython3",
   "version": "3.11.5"
  }
 },
 "nbformat": 4,
 "nbformat_minor": 2
}
