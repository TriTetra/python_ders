{
 "cells": [
  {
   "cell_type": "markdown",
   "metadata": {},
   "source": [
    "#### Bir müşterinin aşağıdaki bilgileri için değişken oluşturunuz\n",
    "\n",
    "- *Müşteri* adı\n",
    "- *Müşteri* soyadı\n",
    "- *Müşteri* ad + soyad\n",
    "- *Müşteri* cinsiyeti\n",
    "- *Müşteri* tc kimlik\n",
    "- *Müşteri* doğum yılı\n",
    "- *Müşteri* adres bilgisi\n",
    "- *Müşteri* yaşı \n",
    "\n",
    "1. Adını ve soyadını oluşturduk ve birleştirerek ekrana gösterdik."
   ]
  },
  {
   "cell_type": "code",
   "execution_count": null,
   "metadata": {},
   "outputs": [],
   "source": [
    "musteriAdi = \"Muhammed\"\n",
    "musteriSoyadi = \"Yakup\"\n",
    "print(musteriAdi+\" \"+musteriSoyadi)"
   ]
  },
  {
   "cell_type": "code",
   "execution_count": null,
   "metadata": {},
   "outputs": [],
   "source": [
    "musteriCinsiyeti = \"Erkek\"\n",
    "musteriTC = \"5423657851142\"\n",
    "musteriDogum = \"1984\"\n",
    "musteriAdres = \"Güngören / İstanbul\"\n",
    "musteriYas = \"39\"\n",
    "print(\"Cinsiyet : \"+musteriCinsiyeti+\" TC : \"+musteriTC+\" Dogum Tarihi : \"+ musteriDogum +\" Adres : \"+musteriAdres+\" Yaşi : \"+musteriYas)"
   ]
  },
  {
   "cell_type": "markdown",
   "metadata": {},
   "source": [
    "#### Aşağıdaki siparişlerin toplam bilgisinin hesaplayınız\n",
    "\n",
    "- Sipariş 1 => 110      TL\n",
    "- Sipariş 2 => 1100.5   TL\n",
    "- Sipariş 3 => 356.95   TL "
   ]
  },
  {
   "cell_type": "code",
   "execution_count": null,
   "metadata": {},
   "outputs": [],
   "source": [
    "order1 = 110\n",
    "order2 = 1100.5\n",
    "order3 = 365.95"
   ]
  },
  {
   "cell_type": "markdown",
   "metadata": {},
   "source": [
    "Her order için bir değişken atadık ve şimdi sıra bu orderların hepsini hesaplamakta sıra"
   ]
  },
  {
   "cell_type": "code",
   "execution_count": null,
   "metadata": {},
   "outputs": [],
   "source": [
    "total = order1+order2+order3\n",
    "print(total)"
   ]
  }
 ],
 "metadata": {
  "kernelspec": {
   "display_name": "Python 3",
   "language": "python",
   "name": "python3"
  },
  "language_info": {
   "codemirror_mode": {
    "name": "ipython",
    "version": 3
   },
   "file_extension": ".py",
   "mimetype": "text/x-python",
   "name": "python",
   "nbconvert_exporter": "python",
   "pygments_lexer": "ipython3",
   "version": "3.11.5"
  }
 },
 "nbformat": 4,
 "nbformat_minor": 2
}
