{
 "cells": [
  {
   "cell_type": "markdown",
   "metadata": {},
   "source": [
    "#### Daire alanı nasıl bulabiliriz \n",
    "\n",
    "- Daire Alanını   : πr^2\n",
    "- Daire Çevresini : 2πr\n",
    "\n",
    "Yukarıda yari çapı verilen bir dairenin alan ve çevresini hesaplayiniz.. (π: 3.14)\n"
   ]
  },
  {
   "cell_type": "markdown",
   "metadata": {},
   "source": [
    "1. Ternimalden input ile int değerinde aldığımız değerleri *yariCap* değişkenine atıyoruz"
   ]
  },
  {
   "cell_type": "code",
   "execution_count": 3,
   "metadata": {},
   "outputs": [],
   "source": [
    "yariCap = int(input(\"Dairenin yari çapini giriniz : \"))\n",
    "print(yariCap)"
   ]
  },
  {
   "cell_type": "markdown",
   "metadata": {},
   "source": [
    "2. Aldığımız değeri *daireAlan* ve *daireCevre* için hesaplamalarda kullanıyoruz ve sonucu .format() yardımıyla sırayla ekrana yazdırıyoruz"
   ]
  },
  {
   "cell_type": "code",
   "execution_count": null,
   "metadata": {},
   "outputs": [],
   "source": [
    "daireAlan = 3.14 * yariCap**2\n",
    "daireCevre = 2 * 3.14 * yariCap\n",
    "print(\"Daire Alani: {}, Daire Cevresi: {}\".format(daireAlan,daireCevre))"
   ]
  },
  {
   "cell_type": "markdown",
   "metadata": {},
   "source": [
    "3. İstersek sonuç değerlerin hangi tür bir değişken olduğunu da ekrana çıktı olarak yansıtabiliriz"
   ]
  },
  {
   "cell_type": "code",
   "execution_count": null,
   "metadata": {},
   "outputs": [],
   "source": [
    "print(\"Daire Alani Türü: {}, Daire Cevresi Türü: {}\".format(type(daireAlan),type(daireCevre)))"
   ]
  }
 ],
 "metadata": {
  "kernelspec": {
   "display_name": "Python 3",
   "language": "python",
   "name": "python3"
  },
  "language_info": {
   "codemirror_mode": {
    "name": "ipython",
    "version": 3
   },
   "file_extension": ".py",
   "mimetype": "text/x-python",
   "name": "python",
   "nbconvert_exporter": "python",
   "pygments_lexer": "ipython3",
   "version": "3.11.5"
  }
 },
 "nbformat": 4,
 "nbformat_minor": 2
}
