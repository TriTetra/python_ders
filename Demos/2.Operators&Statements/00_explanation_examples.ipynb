{
 "cells": [
  {
   "cell_type": "markdown",
   "metadata": {},
   "source": [
    "### Problem 1\n",
    "- Kullanıcıdan alınan boy ve kilo değerlerine göre beden kitle indeksini hesaplayın ve şu kurallara göre ekrana şu yazıları yazdırın.\n",
    "\n",
    "     - Beden Kitle İndeksi: Kilo / Boy(m) *  Boy(m)\n",
    "     - BKİ 18.5'un altındaysa -------> Zayıf\n",
    " \n",
    "     - BKİ 18.5 ile 25 arasındaysa ------> Normal\n",
    " \n",
    "     - BKİ 25 ile 30 arasındaysa --------> Fazla Kilolu\n",
    " "
   ]
  },
  {
   "cell_type": "markdown",
   "metadata": {},
   "source": [
    "---"
   ]
  },
  {
   "cell_type": "markdown",
   "metadata": {},
   "source": [
    "### Problem 2\n",
    "Kullanıcıdan 3 tane sayı alın ve en büyük sayıyı ekrana yazdırın."
   ]
  },
  {
   "cell_type": "markdown",
   "metadata": {},
   "source": [
    "---"
   ]
  },
  {
   "cell_type": "markdown",
   "metadata": {},
   "source": [
    "### Problem 3\n",
    "- Kullanıcının girdiği vize1,vize2,final notlarına notlarına göre harf notunu hesaplayın.\n",
    "    - Vize1 toplam notun %30'una etki edecek.\n",
    "    - Vize2 toplam notun %30'una etki edecek.\n",
    "    - Final toplam notun %40'ına etki edecek.\n",
    "\n",
    "\n",
    "        - Toplam Not >=  90 -----> AA\n",
    "        - Toplam Not >=  85 -----> BA\n",
    "        - Toplam Not >=  80 -----> BB\n",
    "        - Toplam Not >=  75 -----> CB\n",
    "        - Toplam Not >=  70 -----> CC\n",
    "        - Toplam Not >=  65 -----> DC\n",
    "        - Toplam Not >=  60 -----> DD\n",
    "        - Toplam Not >=  55 -----> FD\n",
    "        - Toplam Not <  55 -----> FF"
   ]
  },
  {
   "cell_type": "markdown",
   "metadata": {},
   "source": [
    "---"
   ]
  },
  {
   "cell_type": "markdown",
   "metadata": {},
   "source": [
    "### Problem 4\n",
    "- Şimdi de geometrik şekil hesaplama işlemi yapalım. İlk olarak kullanıcıdan üçgenin mi dörtgenin mi tipini bulmak istediğini sorun.\n",
    "\n",
    "- Eğer kullanıcı \"Dörtgen\" cevabını verirse , 4 tane kenar isteyip bu dörtgenin kare mi , dikdörtgen mi yoksa sıradan bir dörtgen mi olduğunu bulmaya çalışın.\n",
    "\n",
    "- Eğer kullanıcı \"Üçgen\" cevabını verirse , 3 tane kenar isteyip bu üçgenin ikizkenar mı , eşkenar mı yoksa sıradan bir üçgen mi olduğunu bulmaya çalışın. Eğer verilen kenarlar bir üçgen belirtmiyorsa, ekrana \"Üçgen belirtmiyor\" şeklinde bir yazı yazın.o\n",
    "\n",
    "- Üçgen belirtme şartını bilmiyorsunuz internetten bakabilirsiniz.\n",
    "\n",
    "- Ayrıca , bu problemde mutlak değer bulmaya ihtiyacınız olacak. Bunun için, Pythonda hazır bir fonksiyon olan abs() fonksiyonunu kullanabilirsiniz. Kullanımı şu şekildedir ;"
   ]
  },
  {
   "cell_type": "markdown",
   "metadata": {},
   "source": [
    "---"
   ]
  },
  {
   "cell_type": "markdown",
   "metadata": {},
   "source": [
    "### Problem 5\n",
    "\n",
    "**x, y, z = 2, 5, 107** <br>\n",
    "**numbers = 1, 5, 7, 10, 6**\n",
    "\n",
    "- Kullanıcıdan aldığınız 2 sayının çarpımı ile x,y,z taplamının farkı nedir ?\n",
    "- y'nin x'e kalansız bölümünü hesaplayınız\n",
    "- (x,y,z) toplamının mod 3'ü nedir ?\n",
    "- y'nin x. kuvvetini hesaplayınız \n",
    "- x, *y, z numbers işlemine göre z nin küpü kaçtır?\n",
    "- x, *y, z numbers işlemine göre y nin değerleri toplamı kaçtır?\n"
   ]
  },
  {
   "cell_type": "markdown",
   "metadata": {},
   "source": [
    "---"
   ]
  }
 ],
 "metadata": {
  "language_info": {
   "name": "python"
  }
 },
 "nbformat": 4,
 "nbformat_minor": 2
}
