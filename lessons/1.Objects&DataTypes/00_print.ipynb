{
 "cells": [
  {
   "cell_type": "markdown",
   "metadata": {},
   "source": [
    "# print() Fonksiyonu\n",
    "Her çalışan bir programın genel çıktısı olur, python'da da bu görevi *\"stdout\"* **çıktıları yansıtma amacı ile print() fonksiyonu** kullanılır. Uygulamalarda gördüğümüz ve bundan sonraki aşamalarda çıktı olarak uygulamalarda görmek istediğimiz verileri print() fonksiyonu ile ekrana çıktı olarak yansıtacağız.\n",
    "\n",
    "Komutu yazamaya dikkat edilmesi gerekir, Python komutlar ve isimler konusunda hassastır. Yani print fonksiyonunun çalışması için bütün hardlerinin küçük yazılması gerekir."
   ]
  },
  {
   "cell_type": "code",
   "execution_count": null,
   "metadata": {},
   "outputs": [],
   "source": [
    "print()\n",
    "print(\"Hello World\")\n",
    "print(\"Hello Python\")\n",
    "278"
   ]
  },
  {
   "cell_type": "markdown",
   "metadata": {},
   "source": [
    "Fonksiyonumuzun içerisine **bir den fazla değişkenler alabilir**, türü farketmeksizin düzenli girilmiş verileri çıktı olarak verebilir. "
   ]
  },
  {
   "cell_type": "code",
   "execution_count": null,
   "metadata": {},
   "outputs": [],
   "source": [
    "print(\"Hello\", \"how are you?\")\n",
    "print(\"Bird\",\"Cow\",\"Dog\",11,22,33)"
   ]
  },
  {
   "cell_type": "markdown",
   "metadata": {},
   "source": [
    "print() fonksiyonu basit olarak adından da anlaşılabilir olduğu gibi **print ve daha sonra çıktısı istenen (int ve str temel) veriyi parantez içine alacak şekilde çalışır**. Fonksiyonumuz çalıştığında içindeki verileri text şeklinde çıktıya dönüştürür, sadece **\\n** ve **\\t** ifadesinin print içinde özel bir görevi vardır ve bu bir alt satırdan devam et yani \"new line\" şeklindedir."
   ]
  },
  {
   "cell_type": "markdown",
   "metadata": {},
   "source": [
    "---"
   ]
  },
  {
   "cell_type": "markdown",
   "metadata": {},
   "source": [
    "##### Özel \\n Karakteri"
   ]
  },
  {
   "cell_type": "code",
   "execution_count": null,
   "metadata": {},
   "outputs": [],
   "source": [
    "print(\"Example\\n test\")\n",
    "print(\"Welcome\\n to\\n Python\")"
   ]
  },
  {
   "cell_type": "code",
   "execution_count": null,
   "metadata": {},
   "outputs": [],
   "source": [
    "print(\"Selam\\nGençler\")\n",
    "print(\"ilk\\nDönem\\nNasildi\")"
   ]
  },
  {
   "cell_type": "markdown",
   "metadata": {},
   "source": [
    "* Eğer print() fonksiyonu stringlerde böyle bir karakterle karşılaşırsa alt satırdan ekrana yazdırma işlemine devam eder. Yukarıda ve alttaki örneklere yakından bakalım."
   ]
  },
  {
   "cell_type": "markdown",
   "metadata": {},
   "source": [
    "##### Özel \\t karakteri"
   ]
  },
  {
   "cell_type": "code",
   "execution_count": null,
   "metadata": {},
   "outputs": [],
   "source": [
    "print(\"Ocak\\tMart\\tŞubat\")\n",
    "print(\"Adiniz\\tSoyadiniz\")"
   ]
  },
  {
   "cell_type": "code",
   "execution_count": null,
   "metadata": {},
   "outputs": [],
   "source": [
    "print(\"Example\\ttest\")\n",
    "print(\"Welcome\\tto\\tPython\")"
   ]
  },
  {
   "cell_type": "markdown",
   "metadata": {},
   "source": [
    "- Eğer print() fonksiyonu stringlerde böyle bir karakterle karşılaşırsa bir tab boşluk bırakarak ekrana yazdırma işlemine devam eder. Hemen örneklerimize bakalım."
   ]
  },
  {
   "cell_type": "markdown",
   "metadata": {},
   "source": [
    "---"
   ]
  },
  {
   "cell_type": "markdown",
   "metadata": {},
   "source": [
    "### Bazı Diğer Özellikleri\n",
    "Bir çok uygulama da bolca kullanacağımız bu fonksiyonunda kendine özel belli özellikleri var kullanıcıya daha rahat ve hızlı kod yazabilmesi için sunduğu bunlar;"
   ]
  },
  {
   "cell_type": "markdown",
   "metadata": {},
   "source": [
    "##### Özellik 1: sep=' '"
   ]
  },
  {
   "cell_type": "code",
   "execution_count": null,
   "metadata": {},
   "outputs": [],
   "source": [
    "print(\"text\", 25,\"home way\",24.58) # Birden fazla veri içeren bir normal print\n",
    "print(\"text\",25,\"home way\",24,85, sep=\" - \") \n",
    "print(\"One\",\"Two\",3,4,\"Five\",6, sep=\" + \")"
   ]
  },
  {
   "cell_type": "markdown",
   "metadata": {},
   "source": [
    "Özelliğimizde yukarıda gördüğünüz **print fonksiyonunun arasına istenilen sembol veya işareteri ayırarak eklememize yarayan bir özelliktir**. (sep - seperated olarak kısaltılmış halidir.)\n",
    "\n",
    "Yukarıda ikinci print ifademizde bir üstteki print fonksiyonumuzda bulunan verilerin aralarına \" - \" işareti koyarak birlerştimesini yaptık, diğerinde de \" + \" işareti ile verileri ayırıdık. "
   ]
  },
  {
   "cell_type": "markdown",
   "metadata": {},
   "source": [
    "##### Özellik 2: end=' '"
   ]
  },
  {
   "cell_type": "code",
   "execution_count": null,
   "metadata": {},
   "outputs": [],
   "source": [
    "print(\"Hava\",\"Su\",\"Toprak\",25,17.18,\"Dikkat\") # Birden fazla veri içeren bir normal print\n",
    "print(\"Hava\",\"Su\",\"Toprak\",25,17.18,\"Dikkat\",end=\"!\")\n",
    "print(\"Kuş\",\"At\",111,\"Yirmi dokuz\",\"Kaç\",end=\".......\")"
   ]
  },
  {
   "cell_type": "markdown",
   "metadata": {},
   "source": [
    "Bir önceki sep özelliğinden farklı olarak **print içerisindeki verilerin toplamını yazdırır ayrı ayrı ve en sonda hangi veri varsa onun sonuna girilen sembolü veya işareti koyarak sonlandırır**. Son iki printlerimiz de birincisi '!' ifadesi ikincisi de '.......' işareti ile sonlandırılmıştır."
   ]
  },
  {
   "cell_type": "markdown",
   "metadata": {},
   "source": [
    "##### Özellik 3: yıldız(*)"
   ]
  },
  {
   "cell_type": "code",
   "execution_count": null,
   "metadata": {},
   "outputs": [],
   "source": [
    "print(*\"Python\")\n",
    "print(*\"TBMM\",sep =\".\")\n",
    "print(*\"Python\",sep = \"\\n\")"
   ]
  },
  {
   "cell_type": "markdown",
   "metadata": {},
   "source": [
    "Eğer bir stringin başına * işareti koyup, print fonksiyonuna gönderirsek bu **string karakterlerine ayrılacak ve her bir karakter ayrı birer string olarak davranılarak ekrana basılacaktır**."
   ]
  }
 ],
 "metadata": {
  "kernelspec": {
   "display_name": "Python 3",
   "language": "python",
   "name": "python3"
  },
  "language_info": {
   "codemirror_mode": {
    "name": "ipython",
    "version": 3
   },
   "file_extension": ".py",
   "mimetype": "text/x-python",
   "name": "python",
   "nbconvert_exporter": "python",
   "pygments_lexer": "ipython3",
   "version": "3.11.5"
  }
 },
 "nbformat": 4,
 "nbformat_minor": 2
}
