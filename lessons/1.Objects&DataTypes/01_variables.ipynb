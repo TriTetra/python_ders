{
 "cells": [
  {
   "cell_type": "markdown",
   "metadata": {},
   "source": [
    "# Değişkenler"
   ]
  },
  {
   "cell_type": "markdown",
   "metadata": {},
   "source": [
    "Değişkenler programlamadaki en önemli kavramlar biridir. Bu kavramlar sayesinde program içinde işimize yarayacak şekilde isimler vererek hafızada belli bir bölümü ayırmamızı sağlarlar. Kullanıcıdan aldığı veriyi ya da değeri önceden atadığığı değişkene eşitlediğinde hafızada o değer için ayrı bir bölüm açılır ve orada saklanır.\n",
    "\n",
    "Basit bir şekilde anlatmak gerekirse python'da bir değişkene isim verir ve o değişkene değer ataması yaparak program içinde kullanışlı ve ayırt edilebilir olması sağlanır."
   ]
  },
  {
   "cell_type": "code",
   "execution_count": null,
   "metadata": {},
   "outputs": [],
   "source": [
    "renk = \"Mavi\"\n",
    "sayi = 100\n",
    "araba = \"Mercedes\"\n",
    "print(renk,araba,sayi)"
   ]
  },
  {
   "cell_type": "markdown",
   "metadata": {},
   "source": [
    "Örnekte de görüğünüz gibi verilecek olan değeri hafızada tutmak ve karışmamasını sağlamak için o ayrılan hafızada ki değere isim veririz, ama bazı durumlar var ki onlara dikkat edilmelidir, değişkeni sadece print ederek o değişkenin sahip olduğu değeri direkt yazdırabiliriz. \n",
    "\n",
    "Aynı değişkene farklı bir den fazla değer veremeyiz verdiğimiz durumda en son verilen değeri alır ve ona eşitlenir."
   ]
  },
  {
   "cell_type": "code",
   "execution_count": null,
   "metadata": {},
   "outputs": [],
   "source": [
    "sayi = 15\n",
    "sayi = 29\n",
    "sayi = 55\n",
    "print(sayi)"
   ]
  },
  {
   "cell_type": "markdown",
   "metadata": {},
   "source": [
    "Kod çalıştığında değişkene en son hangi değer atandısya ona eşit olacaktır, dikkat edilmesi gereken her değişken bir birinden farklı olmalıdır yukarıdaki koda bakarak ilerlersek üç adet sayı girilecekse bu üç sayı içinde ayrı ayrı değişkenler oluşturulmalıdır. Bazı diğer özellikler; \n",
    "\n",
    "- Değişken isimleri büyük ve küçük harflere duyarlıdırlar.\n",
    "- Değişken atamasında harfler, sayılar ve alt çizgiler kullanılabilir ama değişkenin ilk basamağı sayı ile başlanmamasına dikkat edilmelidir. Diğer durumlar ise dolar işareti ve bunun gibi semboller kullanıldığında da hata verebilir.\n",
    "- Özel isimleride değişken oluştururken kullanamazsınız, bunlardan bazıları.\n",
    "\n",
    "| words   | words     | words     |\n",
    "|---------|-----------|-----------|\n",
    "| print   | continue  | expect    |\n",
    "| and     | def       | False     |\n",
    "| assert  | del       | finally   |\n",
    "| break   | elif      | for       |\n",
    "| class   | else      | from      |\n"
   ]
  },
  {
   "cell_type": "code",
   "execution_count": null,
   "metadata": {},
   "outputs": [],
   "source": [
    "2ad  \n",
    "Ad-soyad\n",
    "Ad.soyad\n",
    "@ad\n",
    "$Ad\n",
    "break"
   ]
  },
  {
   "cell_type": "markdown",
   "metadata": {},
   "source": [
    "Yukarıda oluşturulmuş bütün değişkenler hatalıdır ve çalıştırıldığında hata vereceklerdir."
   ]
  },
  {
   "cell_type": "markdown",
   "metadata": {},
   "source": [
    "---\n",
    "##### 1. Bir Çok Değer ve Değişkenler"
   ]
  },
  {
   "cell_type": "code",
   "execution_count": null,
   "metadata": {},
   "outputs": [],
   "source": [
    "x, y, z = \"Orange\", \"Banana\", \"Cherry\"\n",
    "print(x)\n",
    "print(y)\n",
    "print(z)"
   ]
  },
  {
   "cell_type": "markdown",
   "metadata": {},
   "source": [
    "- Birden fazla değişkeni tek satırda oluşturabilir ve tek satırda hepsine değer atamasını yapabilirsiniz. Bu bize hem hızlı yazmayı ve belli zamanlarda hız kazandıracaktır."
   ]
  },
  {
   "cell_type": "markdown",
   "metadata": {},
   "source": [
    "##### 2. Tek Değer Birden Fazla Değişken"
   ]
  },
  {
   "cell_type": "code",
   "execution_count": null,
   "metadata": {},
   "outputs": [],
   "source": [
    "x = y = z = \"Orange\"\n",
    "print(x)\n",
    "print(y)\n",
    "print(z)"
   ]
  },
  {
   "cell_type": "markdown",
   "metadata": {},
   "source": [
    "- Verilecek olan değişken program içerisinde bir çok kez değişime uğrayacaksa ve bu işlem için tekrar tekrar değişken oluşturmak gerekecekse tek bir değere bir çok değişken atama özelliğini kullanabilirsiniz, ileride daha mantıklı gelmeye başlayacaktır. "
   ]
  },
  {
   "cell_type": "markdown",
   "metadata": {},
   "source": [
    "##### 3. Koleksiyon Dağıtma"
   ]
  },
  {
   "cell_type": "code",
   "execution_count": null,
   "metadata": {},
   "outputs": [],
   "source": [
    "fruits = [\"apple\", \"banana\", \"cherry\"]\n",
    "x, y, z = fruits\n",
    "print(x)\n",
    "print(y)\n",
    "print(z)"
   ]
  },
  {
   "cell_type": "markdown",
   "metadata": {},
   "source": [
    "- Koleksiyonlar veya listeler ilerde göreceğimiz konular ama ipucu gibi olsun, yukarıda bulunan kodda bazı listelerin içindeği index değerlerini index sayısı kadar veya istenilen kadar değişken oluşturarak değişkenlere değerleri atanabilir.\n",
    "---"
   ]
  },
  {
   "cell_type": "markdown",
   "metadata": {},
   "source": [
    "# Veri Tipleri"
   ]
  },
  {
   "cell_type": "markdown",
   "metadata": {},
   "source": [
    "Python'da değişkenlere atanana veriler otomatik olarak kendisi tarafından belirlenir ve o veri türü üzerinden işlemlerini sürdürür, veri türlerimiz incelersek;\n",
    "- int: *integer, tam sayıdan gelmektedir, tam sayı değerleri alırlar ve ondalık sayı değillerdir.*\n",
    "\n",
    "\n",
    "- float: *ondalık sayılardır* \n",
    "\n",
    "\n",
    "- str: *string, karakterler veya harflerden oluşurlar ve bazı özel sembollerde str olarak geçmektedir.*\n",
    "\n",
    "\n",
    "\n",
    "Olarak ayırabiliriz, bu veri tipleri en yaygın olarak kullanacağımız veri tiplerindendirler, kullanacağımız yere göre değerler girerek işlemler yaparız. Bazı örneklere bakalım;\n"
   ]
  },
  {
   "cell_type": "code",
   "execution_count": null,
   "metadata": {},
   "outputs": [],
   "source": [
    "name_person = \"Ahmet\"\n",
    "surname_person = \"Kalyoncu\"\n",
    "age_boy = 19\n",
    "person_id = 999223211\n",
    "road = 13.443"
   ]
  }
 ],
 "metadata": {
  "kernelspec": {
   "display_name": "Python 3",
   "language": "python",
   "name": "python3"
  },
  "language_info": {
   "codemirror_mode": {
    "name": "ipython",
    "version": 3
   },
   "file_extension": ".py",
   "mimetype": "text/x-python",
   "name": "python",
   "nbconvert_exporter": "python",
   "pygments_lexer": "ipython3",
   "version": "3.11.5"
  }
 },
 "nbformat": 4,
 "nbformat_minor": 2
}
