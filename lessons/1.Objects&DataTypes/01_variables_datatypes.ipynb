{
 "cells": [
  {
   "cell_type": "markdown",
   "metadata": {},
   "source": [
    "# Değişkenler"
   ]
  },
  {
   "cell_type": "markdown",
   "metadata": {},
   "source": [
    "Değişkenler programlamadaki en önemli kavramlar biridir. Bu kavramlar sayesinde program içinde işimize yarayacak şekilde isimler vererek hafızada belli bir bölümü ayırmamızı sağlarlar. Kullanıcıdan aldığı veriyi ya da değeri önceden atadığığı değişkene eşitlediğinde hafızada o değer için ayrı bir bölüm açılır ve orada saklanır.\n",
    "\n",
    "Öğrenceğimiz başlıklara bakalım;\n",
    "- Değişken Oluşturmak\n",
    "- Değişken Atama Özellikleri\n",
    "- Adlandırma Türleri\n",
    "- Veri Tipleri\n",
    "- Veri Tipi Dönüşümleri"
   ]
  },
  {
   "cell_type": "markdown",
   "metadata": {},
   "source": [
    "---"
   ]
  },
  {
   "cell_type": "markdown",
   "metadata": {},
   "source": [
    "### Değişken Oluşturmak\n",
    "Basit bir şekilde anlatmak gerekirse python'da bir değişkene isim verir ve o değişkene değer ataması yaparak program içinde kullanışlı ve ayırt edilebilir olması sağlanır."
   ]
  },
  {
   "cell_type": "code",
   "execution_count": null,
   "metadata": {},
   "outputs": [],
   "source": [
    "renk = \"Mavi\"\n",
    "sayi = 100\n",
    "araba = \"Mercedes\"\n",
    "print(renk,araba,sayi)"
   ]
  },
  {
   "cell_type": "markdown",
   "metadata": {},
   "source": [
    "Örnekte de görüğünüz gibi verilecek olan değeri hafızada tutmak ve karışmamasını sağlamak için o ayrılan hafızada ki değere isim veririz, ama bazı durumlar var ki onlara dikkat edilmelidir, değişkeni sadece print ederek o değişkenin sahip olduğu değeri direkt yazdırabiliriz. \n",
    "\n",
    "Aynı değişkene farklı bir den fazla değer veremeyiz verdiğimiz durumda en son verilen değeri alır ve ona eşitlenir."
   ]
  },
  {
   "cell_type": "code",
   "execution_count": null,
   "metadata": {},
   "outputs": [],
   "source": [
    "sayi = 15\n",
    "sayi = 29\n",
    "sayi = 55\n",
    "print(sayi)"
   ]
  },
  {
   "cell_type": "markdown",
   "metadata": {},
   "source": [
    "Kod çalıştığında değişkene en son hangi değer atandısya ona eşit olacaktır, dikkat edilmesi gereken her değişken bir birinden farklı olmalıdır yukarıdaki koda bakarak ilerlersek üç adet sayı girilecekse bu üç sayı içinde ayrı ayrı değişkenler oluşturulmalıdır. Bazı diğer özellikler; \n",
    "\n",
    "- Değişken isimleri büyük ve küçük harflere duyarlıdırlar.\n",
    "- Değişken atamasında harfler, sayılar ve alt çizgiler kullanılabilir ama değişkenin ilk basamağı sayı ile başlanmamasına dikkat edilmelidir. Diğer durumlar ise dolar işareti ve bunun gibi semboller kullanıldığında da hata verebilir.\n",
    "- Özel isimleride değişken oluştururken kullanamazsınız, bunlardan bazıları.\n",
    "\n",
    "| words   | words     | words     |\n",
    "|---------|-----------|-----------|\n",
    "| print   | continue  | expect    |\n",
    "| and     | def       | False     |\n",
    "| assert  | del       | finally   |\n",
    "| break   | elif      | for       |\n",
    "| class   | else      | from      |\n"
   ]
  },
  {
   "cell_type": "code",
   "execution_count": null,
   "metadata": {},
   "outputs": [],
   "source": [
    "2ad  \n",
    "Ad-soyad\n",
    "Ad.soyad\n",
    "@ad\n",
    "$Ad\n",
    "break"
   ]
  },
  {
   "cell_type": "markdown",
   "metadata": {},
   "source": [
    "Yukarıda oluşturulmuş bütün değişkenler hatalıdır ve çalıştırıldığında hata vereceklerdir."
   ]
  },
  {
   "cell_type": "markdown",
   "metadata": {},
   "source": [
    "---"
   ]
  },
  {
   "cell_type": "markdown",
   "metadata": {},
   "source": [
    "### Değişken Atama Özellikleri"
   ]
  },
  {
   "cell_type": "markdown",
   "metadata": {},
   "source": [
    "##### 1. Bir Çok Değer ve Değişkenler"
   ]
  },
  {
   "cell_type": "code",
   "execution_count": null,
   "metadata": {},
   "outputs": [],
   "source": [
    "x, y, z = \"Orange\", \"Banana\", \"Cherry\"\n",
    "print(x)\n",
    "print(y)\n",
    "print(z)"
   ]
  },
  {
   "cell_type": "markdown",
   "metadata": {},
   "source": [
    "- Birden fazla değişkeni tek satırda oluşturabilir ve tek satırda hepsine değer atamasını yapabilirsiniz. Bu bize hem hızlı yazmayı ve belli zamanlarda hız kazandıracaktır."
   ]
  },
  {
   "cell_type": "markdown",
   "metadata": {},
   "source": [
    "##### 2. Tek Değer Birden Fazla Değişken"
   ]
  },
  {
   "cell_type": "code",
   "execution_count": null,
   "metadata": {},
   "outputs": [],
   "source": [
    "x = y = z = \"Orange\"\n",
    "print(x)\n",
    "print(y)\n",
    "print(z)"
   ]
  },
  {
   "cell_type": "markdown",
   "metadata": {},
   "source": [
    "- Verilecek olan değişken program içerisinde bir çok kez değişime uğrayacaksa ve bu işlem için tekrar tekrar değişken oluşturmak gerekecekse tek bir değere bir çok değişken atama özelliğini kullanabilirsiniz, ileride daha mantıklı gelmeye başlayacaktır. "
   ]
  },
  {
   "cell_type": "markdown",
   "metadata": {},
   "source": [
    "##### 3. Koleksiyon Dağıtma"
   ]
  },
  {
   "cell_type": "code",
   "execution_count": null,
   "metadata": {},
   "outputs": [],
   "source": [
    "fruits = [\"apple\", \"banana\", \"cherry\"]\n",
    "x, y, z = fruits\n",
    "print(x)\n",
    "print(y)\n",
    "print(z)"
   ]
  },
  {
   "cell_type": "markdown",
   "metadata": {},
   "source": [
    "- Koleksiyonlar veya listeler ilerde göreceğimiz konular ama ipucu gibi olsun, yukarıda bulunan kodda bazı listelerin içindeği index değerlerini index sayısı kadar veya istenilen kadar değişken oluşturarak değişkenlere değerleri atanabilir.\n",
    "---"
   ]
  },
  {
   "cell_type": "markdown",
   "metadata": {},
   "source": [
    "### Değişken Adlandırma Tipleri"
   ]
  },
  {
   "cell_type": "markdown",
   "metadata": {},
   "source": [
    "Şİmdi gelelim bir değiken nasıl adlandırılabilir ve nasıl daha düzenli görünmesini sağlayabilirim tarafına, Değişken oluştururken hepsini belirli bir şekilde aynı olacak şekilde adlanrımak ve anlaşılır şekilde yapmak önem arz ediyor ki kodun okunabilirliği ve karışmasına yönelik önlem almak adına (Çünkü python key sensitive bir dildir), Bunun için bazı özel adlandırma şekillerimiz var bunlar.\n",
    "\n",
    "- ✨ camelCase \n",
    "- ✨ PascalCase\n",
    "- ✨ snake_case\n",
    "\n",
    "Bu kalıpların temiz kod yazmak için hayat kurtarıcı olduğunu iddia edersem abartmış olmam diye düşünüyorum, o zaman başlayalım 👀"
   ]
  },
  {
   "cell_type": "markdown",
   "metadata": {},
   "source": [
    "##### 1. Camel Case (camelCase)\n",
    "\n",
    "![alt text](https://miro.medium.com/v2/resize:fit:440/format:webp/1*gAQuZ0EC0neY5PT19dkGnw.png \"camelCase\")\n",
    "\n",
    "camelCase, bir bileşik kelime grubu içindeki ilk kelime hariç diğer tüm kelimelerin ilk harfini büyük harfle yazıldığı bir adlandırma kuraldır. \n",
    "\n",
    "👉 myOneMethod’un okunması myonemethod’dan daha kolaydır.\n",
    "\n",
    "camelCase (ayrıca “camel case” veya “dromedary case”) adı, bileşik kelimenin ortasındaki büyük harfle gösterilen deve üzerindeki kamburluğa aittir. Bir camelCase kelimesi bir veya daha fazla büyük harf içerebilir."
   ]
  },
  {
   "cell_type": "code",
   "execution_count": null,
   "metadata": {},
   "outputs": [],
   "source": [
    "idNo = \"22244455\"\n",
    "nameSurname = \"Ali Kaçan\"\n",
    "madeBy = \"China\"\n",
    "schoolID = \"55555555\"\n",
    "# ilk kelime küçük soraki kelimelerin ilk harfleri büyük daha çok okunabilirlik sağlar"
   ]
  },
  {
   "cell_type": "markdown",
   "metadata": {},
   "source": [
    "##### 2. Snake Case (snake_case)\n",
    "\n",
    "Snake Case (snake_case) kelimelerin bir boşluk yerine bir alt çizgi sembolüyle (_) ayrılması ile bileşik kelimeler ile yazmaktır. İlk harf genellikle küçük harfe dönüştürülür. Bazı kullanımlarda tüm harfler büyük harf ile yazılır, örneğin; user school information bu kelimelerle ifade ettiğimiz değişkenimizi snake case ile aşağıdaki iki farklı şekilde tanımlarız.\n",
    "\n",
    "👉user_school_information\n",
    "\n",
    "👉USER_SCHOOL_INFORMATION\n",
    "\n",
    "    Bu stil, büyük harfle yazıldığında, genellikle birçok dilde sabitleri bildirimde bir kural olarak kullanılır. Küçük harf kullanıldığında, veritabanı alan adlarını bildirirken geleneksel olarak kullanılır."
   ]
  },
  {
   "cell_type": "code",
   "execution_count": null,
   "metadata": {},
   "outputs": [],
   "source": [
    "id_no = \"22244455\"\n",
    "name_surname = \"Ali Kaçan\"\n",
    "made_by = \"China\"\n",
    "school_id = \"55555555\"\n",
    "# her kelimenin arasına bir alt çizgi koyarak birbirlerinden ayırılır"
   ]
  },
  {
   "cell_type": "markdown",
   "metadata": {},
   "source": [
    "##### 3. Pascal Case (PascalCase)\n",
    "İlk kelimede dahil, bütün kelimelerin ilk harflerini bileşik bir kelimede büyük harf yapan PascalCase, camelCase’e benzer. Örneğin, PascalCase’deki myFunction (), MyFunction () olarak tanımlanır. Programcılar kaynak kodunu yazarken her iki yazı tipini de kullanmayı seçebilir, çünkü bu sözdizimini etkilemez. \n",
    "\n",
    "    PascalCase bazen 'UpperCamelCase' olarak adlandırılır, standart camelCase ise 'lowerCamelCase' olarak belirtilir.Son yıllarda, geliştiriciler bu terimlerden uzaklaşarak bunun yerine PascalCase ve camelCase'i kullanmaktadırlar.\n",
    "**PascalCase genellikle birçok dilde sınıfların bildirilmesinde bir kural olarak kullanılır.**\n",
    "\n"
   ]
  },
  {
   "cell_type": "code",
   "execution_count": null,
   "metadata": {},
   "outputs": [],
   "source": [
    "IdNo = \"22244455\"\n",
    "NameSurname = \"Ali Kaçan\"\n",
    "MadeBy = \"China\"\n",
    "SchoolId = \"55555555\"\n",
    "# Yukarıda da belirtildiği gibi pascal case daha çok fonksiyonları atamada kullanılır"
   ]
  },
  {
   "cell_type": "markdown",
   "metadata": {},
   "source": [
    "---"
   ]
  },
  {
   "cell_type": "markdown",
   "metadata": {},
   "source": [
    "# Veri Tipleri"
   ]
  },
  {
   "cell_type": "markdown",
   "metadata": {},
   "source": [
    "Python'da değişkenlere atanana veriler otomatik olarak kendisi tarafından belirlenir ve o veri türü üzerinden işlemlerini sürdürür, temel veri türlerimiz incelersek;\n",
    "- int: *integer, tam sayıdan gelmektedir, tam sayı değerleri alırlar ve ondalık sayı değillerdir.*\n",
    "\n",
    "\n",
    "- float: *ondalık sayılardır* \n",
    "\n",
    "\n",
    "- str: *string, karakterler veya harflerden oluşurlar ve bazı özel sembollerde str olarak geçmektedir.*\n",
    "\n",
    "\n",
    "\n",
    "Olarak ayırabiliriz, bu veri tipleri en yaygın olarak kullanacağımız veri tiplerindendirler, kullanacağımız yere göre değerler girerek işlemler yaparız. Bazı örneklere bakalım;\n"
   ]
  },
  {
   "cell_type": "code",
   "execution_count": null,
   "metadata": {},
   "outputs": [],
   "source": [
    "name_person = \"Ahmet\"\n",
    "surname_person = \"Kalyoncu\"\n",
    "age_boy = 19\n",
    "person_id = 999223211\n",
    "road = 13.443"
   ]
  },
  {
   "cell_type": "markdown",
   "metadata": {},
   "source": [
    "Örneklerde olduğu gibi oluşturulan değişkenlere değerler atanır ve değere göre değişken otomatik olarak veri tipini kendisi algılar, yukarıdaki temel veri tipleri dışında da veri tiplerimiz vardır;\n",
    "\n",
    "| Text Type       | Numeric Types    | Sequence Types   | Mapping Type     | Set Types        | Boolean Type     | Binary Types     | None Type        |\n",
    "|-----------------|------------------|------------------|------------------|------------------|------------------|------------------|------------------|\n",
    "| str             | int, float, complex | list, tuple, range | dict             | set, frozenset   | bool             | bytes, bytearray, memoryview | NoneType         |\n",
    "\n",
    "Örneklerle inceleyelim; *(Bu veri tiplerini ileride daha ayrıntılı şekilde göreceğiz)*"
   ]
  },
  {
   "cell_type": "code",
   "execution_count": null,
   "metadata": {},
   "outputs": [],
   "source": [
    "x = \"Hello World\"                                # str\n",
    "x = 100                                          # int\n",
    "x = 100.200                                      # float\n",
    "x = 7j+5                                         # complex\n",
    "x = [\"apple\",\"banana\",\"orange\"]                  # list\n",
    "x = (\"apple\",\"banana\",\"orange\")                  # tuple\n",
    "x = range(5)                                     # range\n",
    "x = {\"name\":\"Jhon\",\"age\":25}                     # dict\n",
    "x = {\"apple\",\"banana\",\"cherry\"}                  # set\n",
    "x = frozenset({\"apple\",\"banana\",\"orange\"})       # frozenset\n",
    "x = True                                         # bool\n",
    "x = b\"Hello\"                                     # bytes\n",
    "x = bytearray(5)                                 # bytearray\n",
    "x = memoryview(bytes(7))                         # memoryview\n",
    "x = None                                         # Nonetype\n",
    "\n"
   ]
  },
  {
   "cell_type": "markdown",
   "metadata": {},
   "source": [
    "- Bir değişkenin hangi veri tipi olup olmadığını anlayabilmemiz için özel fonksiyonumuz vardır, bu fonksiyon type(değişken) şeklinde çalışır;"
   ]
  },
  {
   "cell_type": "code",
   "execution_count": null,
   "metadata": {},
   "outputs": [],
   "source": [
    "x = 145\n",
    "y = \"Hello World\"\n",
    "z = 17.5\n",
    "print(type(x),type(y),type(z))"
   ]
  },
  {
   "cell_type": "markdown",
   "metadata": {},
   "source": [
    "---"
   ]
  },
  {
   "cell_type": "markdown",
   "metadata": {},
   "source": [
    "### Veri Tipi Dönüşümleri"
   ]
  },
  {
   "cell_type": "markdown",
   "metadata": {},
   "source": [
    "Bazen yazdığımız kodlar içinde dönüşüm yapmamız gerektiği gibi benzer ihtiyaçlar olabilir değişkenler üzerinde bu gibi durumlarda veri tipleri arasında değişimler yapabiliriz.\n",
    "\n",
    "Tam sayılar'a dönüşüm veya tam sayılardan ondalık ve str ye dönüşümler yapılabilir aynı işlem diğer tipler içinde geçerlidir, biraz daha yakından bakmak gerekirse;\n",
    "\n",
    "    z değişken = dönüşmesi istenilen veri tipi (z değişkeni) \n",
    "şeklinde basitçe mantık kurabiliriz."
   ]
  },
  {
   "cell_type": "code",
   "execution_count": null,
   "metadata": {},
   "outputs": [],
   "source": [
    "# Tam Sayılar dan diğer\n",
    "a = 11\n",
    "b = 12\n",
    "print(type(a),type(b))  # -> Normal şekilde tam sayı olarak tipleri geleceketir çıktı.\n",
    "\n",
    "a = float(a)\n",
    "b = float(b)\n",
    "print(type(a),type(b)) # -> Burada a ve b yi float'a eşitlediğimiz için float veri tiplerine dönüştüler.\n",
    "\n",
    "a = str(a)\n",
    "b = str(b)\n",
    "print(type(a),type(b)) # -> Burada a ve b yi str'ye eşitlediğimiz için floattan str ye dönüşmüş oldular."
   ]
  },
  {
   "cell_type": "code",
   "execution_count": null,
   "metadata": {},
   "outputs": [],
   "source": [
    "# Ondalık Sayılar dan diğer\n",
    "a = 21.5\n",
    "b = 18.8\n",
    "print(type(a),type(b)) # -> Normal şekilde ondalık sayı olarak tipleri geleceketir çıktı.\n",
    "\n",
    "a = int(a)\n",
    "b = int(b)\n",
    "print(type(a),type(b)) # -> Burada a ve b yi float değerinden int değerine dönüştürmüş olduk.\n",
    "\n",
    "a = str(a)\n",
    "b = str(b)\n",
    "print(type(a),type(b)) # -> Burada da a ve b değerini int değerden str değerine dönüştürdük."
   ]
  },
  {
   "cell_type": "code",
   "execution_count": null,
   "metadata": {},
   "outputs": [],
   "source": [
    "# Metinden diğer\n",
    "a = \"Hello\"\n",
    "b = \"World\"\n",
    "print(type(a),type(b))  # -> Normal şekilde str olarak tipleri geleceketir çıktı.\n",
    "\n",
    "a = int(a)\n",
    "b = int(b)\n",
    "print(type(a),type(b)) # -> kullanılan string de harfler varsa o değerler sayılara dönüşmez ve hata alırsınız, aynısı float içinde geçerlidir."
   ]
  }
 ],
 "metadata": {
  "kernelspec": {
   "display_name": "Python 3",
   "language": "python",
   "name": "python3"
  },
  "language_info": {
   "codemirror_mode": {
    "name": "ipython",
    "version": 3
   },
   "file_extension": ".py",
   "mimetype": "text/x-python",
   "name": "python",
   "nbconvert_exporter": "python",
   "pygments_lexer": "ipython3",
   "version": "3.11.5"
  }
 },
 "nbformat": 4,
 "nbformat_minor": 2
}
