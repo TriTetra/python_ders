{
 "cells": [
  {
   "cell_type": "markdown",
   "metadata": {},
   "source": [
    "# Kullanıcıdan Girdi Almak input()"
   ]
  },
  {
   "cell_type": "markdown",
   "metadata": {},
   "source": [
    "Terminalden veya kullanıcıdan girdi almak isteyebiliriz ve bu girdileri de kod içinde özel değişkenlerde işlemler yapmak isteyebiliriz bunun için input() fonksiyonumuz vardır. Bu fonksiyon ile ekrandan kolayca girdi alabiliriz."
   ]
  },
  {
   "cell_type": "code",
   "execution_count": null,
   "metadata": {},
   "outputs": [],
   "source": [
    "input(\"Adiniz nedir?\")"
   ]
  },
  {
   "cell_type": "markdown",
   "metadata": {},
   "source": [
    "Kod çalıştırıldığında girdi alacaktır ama nereye veya hangi değişkene gibi düşünelim, şimdi bu kişinin girdiği veriyi bir değişkene atayalım ve işelemlerimizde kullanalım."
   ]
  },
  {
   "cell_type": "code",
   "execution_count": null,
   "metadata": {},
   "outputs": [],
   "source": [
    "name = input(\"Adiniz nedir?\")\n",
    "print(\"Girilen isim: \"+name)"
   ]
  },
  {
   "cell_type": "markdown",
   "metadata": {},
   "source": [
    "Değişkene artık ekrandan hangi bilgi girilirse onu kendine değer olarak alacak ve kullanıldığı yerde o değeri döndürecektir. Yalnız şuraya dikkat edilmeli input default olarak çalıştırıldığında bütün değerleri str tipinde alır sayılarıda dahil."
   ]
  },
  {
   "cell_type": "code",
   "execution_count": null,
   "metadata": {},
   "outputs": [],
   "source": [
    "number1 = input(\"İlk sayi:\")\n",
    "number2 = input(\"ikinci sayi\")\n",
    "result = number1 + number2\n",
    "print(result)  # -> Sonuç burada iki sayının toplamı şeklinde değilde yan yana getirilmiş hali olarak gelecektir çünkü input default şuanda.\n",
    "\n",
    "num1 = int(input(\"İlk sayi:\"))\n",
    "num2 = int(input(\"ikinci sayi:\"))\n",
    "res = num1+num2\n",
    "print(res) # -> Sonuç değişti.."
   ]
  },
  {
   "cell_type": "markdown",
   "metadata": {},
   "source": [
    "Sonuç verilen sayıların toplamı olarak geldi çünkü default (str) olarak gelen değeri sonradan int e dönüştürdek ve o şekilde işleme soktuk, input fonksiyonunun çıktısının veri tipinin ne istiyorsak o veri tipi içinde işleme almamız gerekmektedir."
   ]
  },
  {
   "cell_type": "code",
   "execution_count": null,
   "metadata": {},
   "outputs": [],
   "source": [
    "example_int = int(input(\"İnt deger\"))\n",
    "example_float = float(input(\"float deger\"))\n",
    "# default olarak str olarak geldiği için str şekline dönüştürülmesine ihtiyaç yoktur."
   ]
  },
  {
   "cell_type": "markdown",
   "metadata": {},
   "source": [
    "# Formatlama özelliği format()"
   ]
  },
  {
   "cell_type": "markdown",
   "metadata": {},
   "source": [
    "Diyelim ki elimizde bir çok değer var ve bunları daha kolay bir şekilde metin içinde veya kullanacağımız yere göre ayarlamak istiyoruz bunun için bize değişkenler kolay ve hızlı bir şekilde metin veya stdout içinde kullanmamızı sağlayacak fonksiyonumuz .format() dır. "
   ]
  },
  {
   "cell_type": "code",
   "execution_count": null,
   "metadata": {},
   "outputs": [],
   "source": [
    "a  = \"Ocak\"\n",
    "b = 17\n",
    "c = 102.47\n",
    "print(\"Aylardan: \" + a + \", Günlerden: \"+str(b)+\", Ondalik: \"+str(c)) # -> şeklinde yazmamız veya\n",
    "print(a,b,c) # -> Şeklinde yazmamız veya daha farklı seçenekler için düşünmemiz gerekecekti"
   ]
  },
  {
   "cell_type": "markdown",
   "metadata": {},
   "source": [
    "Bunun gibi durumlarda hızlı bir şekilde ilerlemek adına ve kamaşık kod durumundan kendimizi uzak tutmak adına .format() şeklinde düzeni sağlamak daha faydalı olacaktır bir çok açıdan."
   ]
  },
  {
   "cell_type": "code",
   "execution_count": null,
   "metadata": {},
   "outputs": [],
   "source": [
    "a = \"Temmuz\"\n",
    "b = 17\n",
    "c = 20.23\n",
    "print(\"Aylardan: {}, Günlerden: {}, Sene: {}\".format(a,b,c))"
   ]
  },
  {
   "cell_type": "markdown",
   "metadata": {},
   "source": [
    "Şeklinde daha temiz bir kod yazabiliriz, ama burada da dikkat etmemmiz gereken nokta .format() içinde girilen değerlerin sırası metin içinde girilen süsülü parantezler ile aynı olmalıdır yoksa karışıklık olabilir.\n",
    "\n",
    "Nadiren de olsa bazı zamanlarda fazla değişkenler olabilir ve bunu bir tek printte yazdırmak isteyebiliriz ve karışıklık olmaması içinde bazı önlemler almamız gerekebilir bu gibi durumlarda;"
   ]
  },
  {
   "cell_type": "code",
   "execution_count": null,
   "metadata": {},
   "outputs": [],
   "source": [
    "x = \"Ocak\"\n",
    "y = \"Şubat\"\n",
    "z = \"Mart\"\n",
    "w = \"Nisan\"\n",
    "q = \"Mayis\"\n",
    "p = 2023\n",
    "s = 2022\n",
    "t = 2021\n",
    "# -> Gibi değerler olsun elimizde \n",
    "print(\"Birinci: {0}, İkinci: {1}, Üçüncü: {2}, Dördüncü: {3}, Beşinci: {4}, Altinci: {5}, Yedinci: {6}, Sekizinci: {7}\".format(x,y,z,w,q,p,s,t))"
   ]
  },
  {
   "cell_type": "markdown",
   "metadata": {},
   "source": [
    "Index olarak değişkenleri süslü parantezlere denk diye belirritğimiz için karışıklıkların nüne geçmiş olduk."
   ]
  }
 ],
 "metadata": {
  "kernelspec": {
   "display_name": "Python 3",
   "language": "python",
   "name": "python3"
  },
  "language_info": {
   "codemirror_mode": {
    "name": "ipython",
    "version": 3
   },
   "file_extension": ".py",
   "mimetype": "text/x-python",
   "name": "python",
   "nbconvert_exporter": "python",
   "pygments_lexer": "ipython3",
   "version": "3.11.5"
  }
 },
 "nbformat": 4,
 "nbformat_minor": 2
}
