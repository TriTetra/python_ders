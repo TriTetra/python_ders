{
 "cells": [
  {
   "cell_type": "markdown",
   "metadata": {},
   "source": [
    "## Matematiksel Operatörler\n",
    "\n",
    "Evrensel bir dil olan matematik python'da da matematiksel işlemlerde çokça kullanacağız, genel olarak çokça kullanılan temel matematik operatörlerimiz;\n",
    "\n",
    "| Operatör      |Açıklama       |                             \n",
    "|-------|-------|\n",
    "|+       |Toplama       |\n",
    "|-       |Çıkarma       |\n",
    "|*       |Çarpma       |\n",
    "|/       |Bölme       |\n",
    "|%       |Kalan       |\n",
    "|//       |Yuvarlama       |\n",
    "|**       |Üs Alma       |"
   ]
  },
  {
   "cell_type": "markdown",
   "metadata": {},
   "source": [
    "#### İnceleyelim\n",
    "Her operatör için rastgele sayılar ile denemeler yaparak tek tek inceleyelim."
   ]
  },
  {
   "cell_type": "markdown",
   "metadata": {},
   "source": [
    "##### Toplama"
   ]
  },
  {
   "cell_type": "code",
   "execution_count": null,
   "metadata": {},
   "outputs": [],
   "source": [
    "plus0 = 8.3 + 9.2\n",
    "plus1 = 10  + 8\n",
    "plus2 = 25  + 14\n",
    "print(plus0 + plus1 + plus2)\n",
    "print(str(plus0)+ \" \" + str(plus1)+ \" \" + str(plus2))"
   ]
  },
  {
   "cell_type": "markdown",
   "metadata": {},
   "source": [
    "Yukarıda bulunan ilk print sonucu plus0, plus1 ve plus2 nin **sonuçlarının toplamı** şeklinde geldi çünkü print içinde hepsini \"+\" işareti ile Integer bir değer birleştirmeye çalıştığımız için ama ileride göreceğiz bu tür işlemler yaparken belirli ifadeler ile ayırmamız gerekecek.\n",
    "\n",
    "Bir alttaki print ifadesinde number değişkenlerimizin sonuçlarını bir str türüne dönüştürerek bu toplama durumunun önüne geçmiş olduk, ilerde daha ayrıntılı bakacağız."
   ]
  },
  {
   "cell_type": "markdown",
   "metadata": {},
   "source": [
    "#### Çıkarma"
   ]
  },
  {
   "cell_type": "code",
   "execution_count": null,
   "metadata": {},
   "outputs": [],
   "source": [
    "minus0 = 21  - 8\n",
    "minus1 = 8.5 - 5.7\n",
    "minus2 = 11  - 19\n",
    "print(minus0 + minus1 + minus2)\n",
    "print(\"minus0: {}, minus1: {}, minus2: {}\".format(minus0,minus1,minus2))"
   ]
  },
  {
   "cell_type": "markdown",
   "metadata": {},
   "source": [
    "Çıkan ilk sonucun float değeri yani ondalık olarak gelmesinin nedeni **işlemlerin içerisinde bir değişkenin sonucunun float olmasıdır**, herhangi bir *matematiksel işlemde eğer float değeri bulunuyorsa sonuç hep float olarak gelecektir* ne kadar int veri tipinde değerler olsa dahi.\n",
    "\n",
    "Bir altta gelen sonucun da hepsinin int tipinde bir veri olmuş olsa dahi toplama işleminde olanın aksine hepsini str türüne dönüştürmeden kısa yoldan print içinde **ayırmamızı sağlayan .format ile daha kısa ve daha görsel olarakta güzel görünmesini sağladık**."
   ]
  },
  {
   "cell_type": "markdown",
   "metadata": {},
   "source": [
    "#### Çarpma"
   ]
  },
  {
   "cell_type": "code",
   "execution_count": null,
   "metadata": {},
   "outputs": [],
   "source": [
    "times0 = 4   * 7\n",
    "times1 = 7   * 2\n",
    "times2 = 2.2 * 4.6\n",
    "print(\"times0: \"+times0+\", times1: \"+times1+\", times2: \"+times2) # -> Hata verecektir\n",
    "print(\"times0: \"+ str(times0)+ \", times1: \" + str(times1)+ \", times2: \" + str(times2))"
   ]
  },
  {
   "cell_type": "markdown",
   "metadata": {},
   "source": [
    "Sonuçlarımızı inceleyelim bakalım ilk print çalıştırıldığında hata verecektir çünkü python bunu int ve str nin toplanmaya çalıştığını varsayacak ve hata verecektir (Java dan gelenler varsa burada kafası karışabilir çünkü Java da değişken türleri değişken oluşturulduğunda atanır, pytohn veri tipini verilen değere göre kendisi anlar ve devam eder.) çünkü *\"TypeError: can only concatenate str (not \"int\") to str\"* str ve int toplanamaz.\n",
    "\n",
    "İkinci bir seçenek olarakta hepsini tek tek str dönüştürerek bu hatanın önüne geçmek olacaktır ama **kodu her zaman olabildiği kadar kısa ve verimli yazmaya çalışın** (*çalışan koda dokunmayın kafası olmasın*) en önemlisi anlayın."
   ]
  },
  {
   "cell_type": "markdown",
   "metadata": {},
   "source": [
    "#### Bölme"
   ]
  },
  {
   "cell_type": "code",
   "execution_count": null,
   "metadata": {},
   "outputs": [],
   "source": [
    "divide0 = 21 / 5\n",
    "divide1 = 41 / 7\n",
    "divide2 = 25 / 5\n",
    "print(\"divide0: {}, divide1: {}, divide2: {}\".format(divide0,divide1,divide2))"
   ]
  },
  {
   "cell_type": "markdown",
   "metadata": {},
   "source": [
    "Float olarak geldi bütün sonuçlarımız çünkü tam sayı (int) olarak değil sonuç bir float yani bir ondalık olarak gelmektedir, *sadece tam sayıyı almak ve ondalık kısmını almak istemiyorsak burada veri tipi dönüşümü yapmamız gerekecektir*.\n",
    "\n",
    "print kısmında da **.format ile daha güzel ve düzgün okunabilirliği yüksek bir kod** ile sonuçlandırmış olduk."
   ]
  },
  {
   "cell_type": "markdown",
   "metadata": {},
   "source": [
    "#### Kalan "
   ]
  },
  {
   "cell_type": "code",
   "execution_count": null,
   "metadata": {},
   "outputs": [],
   "source": [
    "remain0 = 19 % 5\n",
    "remain1 = 27 % 7\n",
    "remain2 = 32 % 3\n",
    "print(remain0 + remain1 + remain2)\n",
    "print(\"remain0: {}, remain1: {}, remain2: {}\".format(remain0,remain1,remain2))"
   ]
  },
  {
   "cell_type": "markdown",
   "metadata": {},
   "source": [
    "Remain değişkenlerimizin kalan sonuçlarının toplamı ilk print fonksiyonumuzda gelmektedir, diğer print fonksiyonumuzda ise değişkenlerin sonuçlarını ayrı ayrı olarak görebilmekteyiz.\n",
    "\n",
    "iki sayının bölümünden kalanı bulmak istediğimizde % operatörü ile hızlı işlem yapabilir ve istediğimiz işlemleri kolaylıkla halledebiliriz."
   ]
  },
  {
   "cell_type": "markdown",
   "metadata": {},
   "source": [
    "#### Yuvarlama ve Üs \n",
    "\n",
    "Bazı matematik işlemlerde sonucun float gibi bir değer geldiğinde orada float değilde sonucu tam bir sayı olması için // operatörünü kullanırız ve bir a sayısının b kadar üssü almak istiyorsak a**b şeklinde de o sayının üssünü kolaylıkla alabiliriz. "
   ]
  },
  {
   "cell_type": "code",
   "execution_count": null,
   "metadata": {},
   "outputs": [],
   "source": [
    "num0 = 19 // 4\n",
    "num1 = 17 // 5.7\n",
    "num2 = 27 // 9"
   ]
  },
  {
   "cell_type": "code",
   "execution_count": null,
   "metadata": {},
   "outputs": [],
   "source": [
    "power0 = 2**6\n",
    "power1 = 4**2\n",
    "power2 = 2.1**2"
   ]
  },
  {
   "cell_type": "markdown",
   "metadata": {},
   "source": [
    "Bazı örnek işlemleri verdik şimdi çıktılarına bir göz atalım."
   ]
  },
  {
   "cell_type": "code",
   "execution_count": null,
   "metadata": {},
   "outputs": [],
   "source": [
    "print(\"num0: {}, num1: {}, num2: {}\".format(num0,num1,num2))\n",
    "print(\"power0: {}, power1: {}, power2: {}\".format(power0,power1,power2))"
   ]
  },
  {
   "cell_type": "markdown",
   "metadata": {},
   "source": [
    "---"
   ]
  },
  {
   "cell_type": "markdown",
   "metadata": {},
   "source": [
    "#### Operatörleri beraber kullanma ve İşlem sırası"
   ]
  },
  {
   "cell_type": "markdown",
   "metadata": {},
   "source": [
    "Python matematiksel bir işlem döndürüken işlemlerin her zaman solundan sağına doğru ilerletir, işlem sırasında belli operatörlerin de kendi işlem önceliği bulunmaktadır, bu sebepten kaynaklı bazen işlemlerde hatalı sonuçlar çıkarılabilir. Bu şekilde hataların önüne geçmek için;\n",
    "\n",
    "1. Parantez içi her zaman önce yapılır.\n",
    "2. Çarpma ve Bölme her zaman Toplama ve Çıkarma işlemine göre önce yapılır.\n",
    "3. İşlemler soldan sağa değerlendirilir.\n",
    "\n",
    "- Ancak, buradaki işlemleri ezberlememize hiç gerek yok. Kafamızın karıştığı yerler de işlemleri parantez içine almak, hayat kurtarır :) Şimdi örneklere bakalım.\n",
    "- Aşağıda da gerçekeltirilecek olan işlemde de çarpım ve üs alma, kalan ve bölme işaretleri kullanılırken dikkat edilmelidir."
   ]
  },
  {
   "cell_type": "code",
   "execution_count": null,
   "metadata": {},
   "outputs": [],
   "source": [
    "print(12 + 5 + 7 ** 3 *4 / 2 + 4 // 6)"
   ]
  },
  {
   "cell_type": "code",
   "execution_count": null,
   "metadata": {},
   "outputs": [],
   "source": [
    "# Kafamız karışıyorsa paranteze alalım.\n",
    "\n",
    "print(8 + ((4 * 3) /2) - 18)"
   ]
  }
 ],
 "metadata": {
  "kernelspec": {
   "display_name": "Python 3",
   "language": "python",
   "name": "python3"
  },
  "language_info": {
   "codemirror_mode": {
    "name": "ipython",
    "version": 3
   },
   "file_extension": ".py",
   "mimetype": "text/x-python",
   "name": "python",
   "nbconvert_exporter": "python",
   "pygments_lexer": "ipython3",
   "version": "3.11.5"
  }
 },
 "nbformat": 4,
 "nbformat_minor": 2
}
