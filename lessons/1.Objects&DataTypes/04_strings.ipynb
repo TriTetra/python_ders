{
 "cells": [
  {
   "cell_type": "markdown",
   "metadata": {},
   "source": [
    "# Karakter Dizileri (Stringler)"
   ]
  },
  {
   "cell_type": "markdown",
   "metadata": {},
   "source": [
    "Bu bölümde stringleri olabildiği kadar ayrıntılı bakmaya çalışacağız, Python'da bir veri tipi olan Stringler veya Türkçe karşılığı olarak karakter dizileri gerçek hayatta kullandığımız yazılardır. Bu **veri tipi Türkçe karşılığından anlamış olacağınız üzere bir çok karakterin bir araya gelerek oluşturduğu karakter dizileridir**. \n",
    "\n",
    "Örnek olarak (\"Hava soğuk\" -> H,a,v,a, ,s,o,ğ,u,k) gördüğünüz gibi burada boşlukta bir akrakterdir burayı atlamayın *(Bilgisayar dilinde boşluk diye bir şey yoktur herşeyin arkada bir karşılığı vardır)*."
   ]
  },
  {
   "cell_type": "markdown",
   "metadata": {},
   "source": [
    "#### String oluşturma"
   ]
  },
  {
   "cell_type": "markdown",
   "metadata": {},
   "source": [
    "String normal olarak bir çok şekilde elde edebileceğimiz bir veri türüdür sadece adınız yazmakta bir çok karakterin bir araya gelmesi ve bunun sonucunda string oluşturmasıdır. En çok kullanacağımız veri tiplerindendir. *(Sayıları dahi belli range içinde str olarak veya kolaylık olsun diye işleyeceğimiz yerler olacaktır.)*\n",
    "- Stringler belirli tırnaklar içinde alındığında otomatik olarak okunur."
   ]
  },
  {
   "cell_type": "code",
   "execution_count": null,
   "metadata": {},
   "outputs": [],
   "source": [
    "# Tek tırnak ile\n",
    "'Biruni Üniversitesi'"
   ]
  },
  {
   "cell_type": "code",
   "execution_count": null,
   "metadata": {},
   "outputs": [],
   "source": [
    "# Çift tırnak ile\n",
    "\"Biruni Üniversitesi\""
   ]
  },
  {
   "cell_type": "code",
   "execution_count": null,
   "metadata": {},
   "outputs": [],
   "source": [
    "# Üç tırnak ile\n",
    "\"\"\"Biruni Üniversitesi\"\"\""
   ]
  },
  {
   "cell_type": "markdown",
   "metadata": {},
   "source": [
    "Tabi burada da bazı kendi içinde kuralları var string oluşturmada, bunlar eşit tırnak ile başlama ve bitirme gibi çift tırnak ile başlayıp string sonunu tek tırnak veya üç tırnak ile kapatmak kodda hataya neden olacaktır. Dikkat edilmesi gerek ilk yer burasıdır."
   ]
  },
  {
   "cell_type": "code",
   "execution_count": null,
   "metadata": {},
   "outputs": [],
   "source": [
    "# Hata sonuç çıkar\n",
    "\"Biruni Üniversitesi' # -> Bakin görüdğünüz gibi string şuan kapandi olarak görmüyor, normalde burasi yorum satiri olmaliydi"
   ]
  },
  {
   "cell_type": "markdown",
   "metadata": {},
   "source": [
    "Değişkene atama alalım bir input() fonksiyonu ile unumamışsanız input() her zaman default durumda verileri str olarak alır , aldığımız verileri de format() özelliği ile sıralayarak daha düzenli bir kod elde etmeye çalışalım."
   ]
  },
  {
   "cell_type": "code",
   "execution_count": null,
   "metadata": {},
   "outputs": [],
   "source": [
    "name_user = input(\"isminizi giriniz: \")\n",
    "surname_user = input(\"Soyadinizi giriniz: \")\n",
    "print(\"Kullanici ismi: {}, Soyadi: {}, Veri türleri: {}{}\".format(name_user,surname_user,type(name_user),type(surname_user)))"
   ]
  },
  {
   "cell_type": "markdown",
   "metadata": {},
   "source": [
    "- Aldığımız verileri format() fonksiyonu ile düzenlli olarak çıkarttık ve değişkene verdiğimiz verilerin hangi tip veri olduğunu kontrol etmiş olduk."
   ]
  },
  {
   "cell_type": "markdown",
   "metadata": {},
   "source": [
    "#### String indekleme ve parçalama"
   ]
  },
  {
   "cell_type": "markdown",
   "metadata": {},
   "source": [
    "Her string bir dizi olduğu için her karakterin geldiği sırasına göre indeksi vardır ve bu indekler ile bazı işlemleri hızlandırmış oluruz. *Örnek olarak \"Hava Soğuk\" kelimesinedeki her karakterin kendi sırasına göre bir indeksi vardır H'in indeksi 0 dır ya da k'nın indeksi şuan 9 olarak tanımlıdır.* İndeks ne diye sorarsak, **bulunduğu sıranın numerik olarak karşılığı** diye kodlayabiliriz.\n",
    "\n",
    "- Çoğu diğer popüler programlama dillerinde olduğu gibi python'da da indeks her zaman 0 dan başlar çünkü biz Decimal sayıları kullanırız burada."
   ]
  },
  {
   "cell_type": "code",
   "execution_count": null,
   "metadata": {},
   "outputs": [],
   "source": [
    "faculity = \"Doğa ve Mühendislik Fakültesi\"\n",
    "# şimdi elimizde uzunca bir karakter dizisi var tek tek inceleyelim\n",
    "indeks_0 = faculity[0]\n",
    "indeks_1 = faculity[1]\n",
    "indeks_10 = faculity[10]\n",
    "\n",
    "print(\"ilk: {}, ikinci: {}, onuncu: {}, sonuncu: {}, sondan 5.sayi: {}\".format(indeks_0,indeks_1,indeks_10))"
   ]
  },
  {
   "cell_type": "markdown",
   "metadata": {},
   "source": [
    "- Sondan da bir str dizisini kontrol edebiliriz bunun için -sayi sondan kontorl için sayının önüne (-) getirmemiz yeterlidir."
   ]
  },
  {
   "cell_type": "code",
   "execution_count": null,
   "metadata": {},
   "outputs": [],
   "source": [
    "indeks_sonuncu = faculity[-1]  # dizi içine -1 yazdığımızda bu sondan ilki olarak düşünebilirsiniz.\n",
    "indeks_minus5 = faculity[-5]\n",
    "print(\"Sonuncu: {}, sondan 5.sayi: {}\".format(indeks_sonuncu,indeks_minus5))"
   ]
  },
  {
   "cell_type": "markdown",
   "metadata": {},
   "source": [
    "- Diyelim ki str dizisinin içinde belirli toplu bölümü okutmak istiyoruz bunu nasıl yaparız dersek bunun için indeks,: ve [] bu üçünü şimdi miksleyeceğiz. Daha yakından bakalım;\n",
    "\n",
    "        Formül = [başlama indeksi : bitiş indeksi : atlama değeri]"
   ]
  },
  {
   "cell_type": "code",
   "execution_count": null,
   "metadata": {},
   "outputs": [],
   "source": [
    "a = \"Python Programlama Dili\"\n",
    "# Yukarıdaki str dizisini inceleyelim\n",
    "\n",
    "first  = a[4:10] # -> 4. ve 10. indek arasındaki değerleri okut demektir\n",
    "print(first)\n",
    "\n",
    "second = a[4:]   # -> 4. İndeksten dizinin sonuna kadar almak demek : işaretinin sağı boş bırakıldığında makine bunu anlar\n",
    "print(second)\n",
    "\n",
    "third  = a[:]    # -> Her iki tarafıda al yani bütün str yi oku demektir\n",
    "print(third)\n",
    "\n",
    "fourth = a[:-1]  # -> Sondan ilk karaktere kadar oku demektir\n",
    "print(fourth)\n",
    "\n",
    "fifth  = a[::2]  # -> Baştan sona heryeri 2 li 2 li okuma demektir \n",
    "print(fifth)\n",
    "\n",
    "sixth  = a[4:12:4] # -> 4. indeksten 12. indekse kadar 4 er 4 er atlayarak değerleri al demektir.\n",
    "print(sixth)\n",
    "\n",
    "seventh = a[::-1]  # -> Baştan sona -1 atlayarak stringi al. (String'i ters çevirme)\n",
    "print(seventh)"
   ]
  },
  {
   "cell_type": "markdown",
   "metadata": {},
   "source": [
    "*Yukarıdaki özellikler ile str yani karakter dizilerinin içinde istedğiniz gibi gezebilirsiniz.*"
   ]
  },
  {
   "cell_type": "markdown",
   "metadata": {},
   "source": [
    "### String Özellikleri"
   ]
  },
  {
   "cell_type": "markdown",
   "metadata": {},
   "source": [
    "##### 1. Fonksiyon len()"
   ]
  },
  {
   "cell_type": "markdown",
   "metadata": {},
   "source": [
    "Bir string'in uzunluğunu bulmamızda işimize yarayan bu fonksiyon ile str mizin ne kadar uzunlukta bir indeks olduğunu öğrenebiliriz."
   ]
  },
  {
   "cell_type": "code",
   "execution_count": null,
   "metadata": {},
   "outputs": [],
   "source": [
    "# len() fonksiyonunu kullanma.\n",
    "a = \"Python Programlama Dili\"\n",
    "len(a)"
   ]
  },
  {
   "cell_type": "markdown",
   "metadata": {},
   "source": [
    "##### 2. Birleştirme ve Değiştirme"
   ]
  },
  {
   "cell_type": "markdown",
   "metadata": {},
   "source": [
    "Bazen kod içinde bir kaç indeksi birleştirme veya belli indeksteki karakterleri değiştirme ihtiyacı duyabiliriz bunun içide python'da basit çözümleri vardır."
   ]
  }
 ],
 "metadata": {
  "kernelspec": {
   "display_name": "Python 3",
   "language": "python",
   "name": "python3"
  },
  "language_info": {
   "codemirror_mode": {
    "name": "ipython",
    "version": 3
   },
   "file_extension": ".py",
   "mimetype": "text/x-python",
   "name": "python",
   "nbconvert_exporter": "python",
   "pygments_lexer": "ipython3",
   "version": "3.11.5"
  }
 },
 "nbformat": 4,
 "nbformat_minor": 2
}
