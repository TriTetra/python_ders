{
 "cells": [
  {
   "cell_type": "markdown",
   "metadata": {},
   "source": [
    "# Listeler"
   ]
  },
  {
   "cell_type": "markdown",
   "metadata": {},
   "source": [
    "Veri tiplerinden önemli derecede kullanacağımız diğer bir tipimiz listeler, listeler sayesinde bir değişkene tekte birden fazla veri tipi atayabilmemizi sağlar. Stringler de olduğu gibi her aldığı veriyi indek olarak kendi içinde saklar, tıpkı stringler gibi ,indekslenirler,parçalanırlar ve üzerinde değişik işlemler yapabildiğimiz metodlar bulunur. Ancak listelerin stringlerden önemli farkları da bulunmaktadır. Stringler konusundan bildiğimiz kadarıyla stringler değiştirilemez bir veri tipidir. Ancak, listelerimiz değiştirilebilir bir veritipidir."
   ]
  },
  {
   "cell_type": "markdown",
   "metadata": {},
   "source": [
    "Öğreneceğimiz başlıklara bakalım;\n",
    "- Liste oluşturma\n",
    "- Indeks işlemleri ve ayrılabilirlik\n",
    "- Temel liste metotları \n",
    "- İç içe listeler"
   ]
  },
  {
   "cell_type": "markdown",
   "metadata": {},
   "source": [
    "#### Liste Oluşturma"
   ]
  },
  {
   "cell_type": "markdown",
   "metadata": {},
   "source": [
    "Listeler \"[]\" sembolünün içine değerler veya verileri alarak oluşturulur. İçine bir çok farklı değer veri tipi alabilir."
   ]
  },
  {
   "cell_type": "code",
   "execution_count": null,
   "metadata": {},
   "outputs": [],
   "source": [
    "first_list = [\"Banana\",\"Orange\",20,30,True,20.24,17.19]\n",
    "print(first_list)"
   ]
  },
  {
   "cell_type": "markdown",
   "metadata": {},
   "source": [
    "Boş listerler oluşturarak sonradan değerlerde verebiliriz ya da String veri tipini liste ye dönüştürebiliriz."
   ]
  },
  {
   "cell_type": "code",
   "execution_count": null,
   "metadata": {},
   "outputs": [],
   "source": [
    "empty_list = []  # -> Boş liste içine veri atabailiriz belirli fonksiyonlar beraberinde."
   ]
  },
  {
   "cell_type": "code",
   "execution_count": null,
   "metadata": {},
   "outputs": [],
   "source": [
    "long_list = [1,2,3,4,5,6,7,8,9,10,11,12,13,14,15,16,17,18,19,20]\n",
    "length = len(long_list) # -> len() fonksiyonu ile listenin içinde kaç değer olduğunu görebiliriz.\n",
    "print(length) "
   ]
  },
  {
   "cell_type": "code",
   "execution_count": null,
   "metadata": {},
   "outputs": [],
   "source": [
    "word_day = \"Hasta olamam gerekli\"\n",
    "convert_list = list(word_day) # -> list() fonksiyonu ile str tipini diziye dönüştürerek karakterleri ayırabiliriz.\n",
    "print(convert_list)"
   ]
  },
  {
   "cell_type": "markdown",
   "metadata": {},
   "source": [
    "#### Indeks işlemleri ve ayrılabilirlik"
   ]
  },
  {
   "cell_type": "markdown",
   "metadata": {},
   "source": [
    "Stringlerde görüdüğümüz parçalama ve dizi içini dönme işlemleri aynırıdr."
   ]
  },
  {
   "cell_type": "code",
   "execution_count": null,
   "metadata": {},
   "outputs": [],
   "source": [
    "example_list = [\"Cow\",\"Monkey\",\"Wold\",\"Bird\",\"Snake\"]\n",
    "first_indeks = example_list[0]\n",
    "second_indeks = example_list[1]\n",
    "third_indeks = example_list[2]\n",
    "last_indeks = example_list[-1]\n",
    "# -> liste içinden istediğimiz indeks sayısının girerek o değeri alabiliriz.\n",
    "print(\"İlk: {}, ikinci: {}, üçüncü: {}\".format(first_indeks,second_indeks,third_indeks))\n",
    "print(\"Sonuncu: {}\".format(last_indeks))"
   ]
  },
  {
   "cell_type": "code",
   "execution_count": null,
   "metadata": {},
   "outputs": [],
   "source": [
    "example_list = [\"Cow\",\"Monkey\",\"Wold\",\"Bird\",\"Snake\"]\n",
    "print(example_list[:3]) # -> Sadece verilen indeksten bir eksik olacak şekilde alır."
   ]
  },
  {
   "cell_type": "code",
   "execution_count": null,
   "metadata": {},
   "outputs": [],
   "source": [
    "example_list = [\"Cow\",\"Monkey\",\"Wold\",\"Bird\",\"Snake\"]\n",
    "print(example_list[3:]) # -> sola girilen yer başlangıç ve o değer dahil olarak okur ama sağda girilen değer dahil olmaksızın alır."
   ]
  },
  {
   "cell_type": "code",
   "execution_count": null,
   "metadata": {},
   "outputs": [],
   "source": [
    "example_list = [\"Cow\",\"Monkey\",\"Wold\",\"Bird\",\"Snake\",\"Mause\",\"Cat\",\"Fish\",\"Elphant\"]\n",
    "print(example_list[::2]) # -> Listenin içindeki değerleri 2 şer 2 şer okur, şöyle düşünün [başlangıç:son yer:ilerleme şekli]"
   ]
  },
  {
   "cell_type": "code",
   "execution_count": null,
   "metadata": {},
   "outputs": [],
   "source": [
    "example_list = [\"Cow\",\"Monkey\",\"Wold\",\"Bird\",\"Snake\",\"Mause\",\"Cat\",\"Fish\",\"Elphant\"]\n",
    "print(example_list[::-1]) # -> Tersten okuyarak gelir."
   ]
  },
  {
   "cell_type": "code",
   "execution_count": null,
   "metadata": {},
   "outputs": [],
   "source": [
    "long_list = [0,1,2,3,4,5,6,7,8,9,10]\n",
    "print(len(long_list)-1) # -> Listlenin içindeki değer sayısının verir -1 demezsek hata alabiliriz çünkü makine 0 ile başlar."
   ]
  },
  {
   "cell_type": "markdown",
   "metadata": {},
   "source": [
    "Bunların dışında diğer basit işlemler var kendi içinde, liste birleştirme, çoğaltma, indeks değiştirme ve eşitleme gibi."
   ]
  },
  {
   "cell_type": "code",
   "execution_count": null,
   "metadata": {},
   "outputs": [],
   "source": [
    "first_list = [1,2,3,4,5]\n",
    "second_list = [6,7,8,9,10]\n",
    "new_list = first_list + second_list # -> Listeleri burada birleştirdik.\n",
    "print(new_list)"
   ]
  },
  {
   "cell_type": "code",
   "execution_count": null,
   "metadata": {},
   "outputs": [],
   "source": [
    "mult_list = [1,2,3]\n",
    "new_list = mult_list * 3  # -> İstediğimiz listeyi çarparak içindeki değerleri çoğaltabiliriz.\n",
    "print(new_list)"
   ]
  }
 ],
 "metadata": {
  "kernelspec": {
   "display_name": "Python 3",
   "language": "python",
   "name": "python3"
  },
  "language_info": {
   "codemirror_mode": {
    "name": "ipython",
    "version": 3
   },
   "file_extension": ".py",
   "mimetype": "text/x-python",
   "name": "python",
   "nbconvert_exporter": "python",
   "pygments_lexer": "ipython3",
   "version": "3.11.5"
  }
 },
 "nbformat": 4,
 "nbformat_minor": 2
}
