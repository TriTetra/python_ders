{
 "cells": [
  {
   "cell_type": "markdown",
   "metadata": {},
   "source": [
    "# Listeler"
   ]
  },
  {
   "cell_type": "markdown",
   "metadata": {},
   "source": [
    "Veri tiplerinden önemli derecede kullanacağımız diğer bir tipimiz listeler, listeler sayesinde bir değişkene tekte birden fazla veri tipi atayabilmemizi sağlar. Stringler de olduğu gibi her aldığı veriyi indek olarak kendi içinde saklar, tıpkı stringler gibi ,indekslenirler,parçalanırlar ve üzerinde değişik işlemler yapabildiğimiz metodlar bulunur. Ancak listelerin stringlerden önemli farkları da bulunmaktadır. Stringler konusundan bildiğimiz kadarıyla stringler değiştirilemez bir veri tipidir. Ancak, listelerimiz değiştirilebilir bir veritipidir."
   ]
  },
  {
   "cell_type": "markdown",
   "metadata": {},
   "source": [
    "Öğreneceğimiz başlıklara bakalım;\n",
    "- Liste oluşturma\n",
    "- Indeks işlemleri ve ayrılabilirlik\n",
    "- Temel liste metotları \n",
    "- İç içe listeler"
   ]
  },
  {
   "cell_type": "markdown",
   "metadata": {},
   "source": [
    "#### Liste Oluşturma"
   ]
  },
  {
   "cell_type": "markdown",
   "metadata": {},
   "source": [
    "Listeler \"[]\" sembolünün içine değerler veya verileri alarak oluşturulur. İçine bir çok farklı değer veri tipi alabilir."
   ]
  },
  {
   "cell_type": "code",
   "execution_count": null,
   "metadata": {},
   "outputs": [],
   "source": [
    "first_list = [\"Banana\",\"Orange\",20,30,True,20.24,17.19]\n",
    "print(first_list)"
   ]
  },
  {
   "cell_type": "markdown",
   "metadata": {},
   "source": [
    "Boş listerler oluşturarak sonradan değerlerde verebiliriz ya da String veri tipini liste ye dönüştürebiliriz."
   ]
  },
  {
   "cell_type": "code",
   "execution_count": null,
   "metadata": {},
   "outputs": [],
   "source": [
    "empty_list = []  # -> Boş liste içine veri atabailiriz belirli fonksiyonlar beraberinde."
   ]
  },
  {
   "cell_type": "code",
   "execution_count": null,
   "metadata": {},
   "outputs": [],
   "source": [
    "long_list = [1,2,3,4,5,6,7,8,9,10,11,12,13,14,15,16,17,18,19,20]\n",
    "length = len(long_list) # -> len() fonksiyonu ile listenin içinde kaç değer olduğunu görebiliriz.\n",
    "print(length) "
   ]
  },
  {
   "cell_type": "code",
   "execution_count": null,
   "metadata": {},
   "outputs": [],
   "source": [
    "word_day = \"Hasta olamam gerekli\"\n",
    "convert_list = list(word_day) # -> list() fonksiyonu ile str tipini diziye dönüştürerek karakterleri ayırabiliriz.\n",
    "print(convert_list)"
   ]
  }
 ],
 "metadata": {
  "kernelspec": {
   "display_name": "Python 3",
   "language": "python",
   "name": "python3"
  },
  "language_info": {
   "codemirror_mode": {
    "name": "ipython",
    "version": 3
   },
   "file_extension": ".py",
   "mimetype": "text/x-python",
   "name": "python",
   "nbconvert_exporter": "python",
   "pygments_lexer": "ipython3",
   "version": "3.11.5"
  }
 },
 "nbformat": 4,
 "nbformat_minor": 2
}
