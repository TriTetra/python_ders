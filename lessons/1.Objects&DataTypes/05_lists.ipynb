{
 "cells": [
  {
   "cell_type": "markdown",
   "metadata": {},
   "source": [
    "# Listeler"
   ]
  },
  {
   "cell_type": "markdown",
   "metadata": {},
   "source": [
    "Veri tiplerinden önemli derecede kullanacağımız diğer bir tipimiz listeler, listeler sayesinde bir değişkene tekte birden fazla veri tipi atayabilmemizi sağlar. Stringler de olduğu gibi her aldığı veriyi indek olarak kendi içinde saklar, tıpkı stringler gibi ,indekslenirler,parçalanırlar ve üzerinde değişik işlemler yapabildiğimiz metodlar bulunur. Ancak listelerin stringlerden önemli farkları da bulunmaktadır. Stringler konusundan bildiğimiz kadarıyla stringler değiştirilemez bir veri tipidir. Ancak, listelerimiz değiştirilebilir bir veritipidir."
   ]
  },
  {
   "cell_type": "markdown",
   "metadata": {},
   "source": [
    "Öğreneceğimiz başlıklara bakalım;\n",
    "- Liste oluşturma\n",
    "- Indeks işlemleri ve ayrılabilirlik\n",
    "- Temel liste metotları \n",
    "- İç içe listeler"
   ]
  },
  {
   "cell_type": "markdown",
   "metadata": {},
   "source": [
    "---"
   ]
  },
  {
   "cell_type": "markdown",
   "metadata": {},
   "source": [
    "#### Liste Oluşturma"
   ]
  },
  {
   "cell_type": "markdown",
   "metadata": {},
   "source": [
    "Listeler \"[]\" sembolünün içine değerler veya verileri alarak oluşturulur. İçine bir çok farklı değer veri tipi alabilir."
   ]
  },
  {
   "cell_type": "code",
   "execution_count": null,
   "metadata": {},
   "outputs": [],
   "source": [
    "first_list = [\"Banana\",\"Orange\",20,30,True,20.24,17.19]\n",
    "print(first_list)"
   ]
  },
  {
   "cell_type": "markdown",
   "metadata": {},
   "source": [
    "Boş listerler oluşturarak sonradan değerlerde verebiliriz ya da String veri tipini liste ye dönüştürebiliriz."
   ]
  },
  {
   "cell_type": "code",
   "execution_count": null,
   "metadata": {},
   "outputs": [],
   "source": [
    "empty_list = []  # -> Boş liste içine veri atabailiriz belirli fonksiyonlar beraberinde."
   ]
  },
  {
   "cell_type": "code",
   "execution_count": null,
   "metadata": {},
   "outputs": [],
   "source": [
    "long_list = [1,2,3,4,5,6,7,8,9,10,11,12,13,14,15,16,17,18,19,20]\n",
    "length = len(long_list) # -> len() fonksiyonu ile listenin içinde kaç değer olduğunu görebiliriz.\n",
    "print(length) "
   ]
  },
  {
   "cell_type": "code",
   "execution_count": null,
   "metadata": {},
   "outputs": [],
   "source": [
    "word_day = \"Hasta olamam gerekli\"\n",
    "convert_list = list(word_day) # -> list() fonksiyonu ile str tipini diziye dönüştürerek karakterleri ayırabiliriz.\n",
    "print(convert_list)"
   ]
  },
  {
   "cell_type": "markdown",
   "metadata": {},
   "source": [
    "---"
   ]
  },
  {
   "cell_type": "markdown",
   "metadata": {},
   "source": [
    "#### Indeks işlemleri ve ayrılabilirlik"
   ]
  },
  {
   "cell_type": "markdown",
   "metadata": {},
   "source": [
    "Stringlerde görüdüğümüz parçalama ve dizi içini dönme işlemleri aynırıdr."
   ]
  },
  {
   "cell_type": "code",
   "execution_count": null,
   "metadata": {},
   "outputs": [],
   "source": [
    "example_list = [\"Cow\",\"Monkey\",\"Wold\",\"Bird\",\"Snake\"]\n",
    "first_indeks = example_list[0]\n",
    "second_indeks = example_list[1]\n",
    "third_indeks = example_list[2]\n",
    "last_indeks = example_list[-1]\n",
    "# -> liste içinden istediğimiz indeks sayısının girerek o değeri alabiliriz.\n",
    "print(\"İlk: {}, ikinci: {}, üçüncü: {}\".format(first_indeks,second_indeks,third_indeks))\n",
    "print(\"Sonuncu: {}\".format(last_indeks))"
   ]
  },
  {
   "cell_type": "code",
   "execution_count": null,
   "metadata": {},
   "outputs": [],
   "source": [
    "example_list = [\"Cow\",\"Monkey\",\"Wold\",\"Bird\",\"Snake\"]\n",
    "print(example_list[:3]) # -> Sadece verilen indeksten bir eksik olacak şekilde alır."
   ]
  },
  {
   "cell_type": "code",
   "execution_count": null,
   "metadata": {},
   "outputs": [],
   "source": [
    "example_list = [\"Cow\",\"Monkey\",\"Wold\",\"Bird\",\"Snake\"]\n",
    "print(example_list[3:]) # -> sola girilen yer başlangıç ve o değer dahil olarak okur ama sağda girilen değer dahil olmaksızın alır."
   ]
  },
  {
   "cell_type": "code",
   "execution_count": null,
   "metadata": {},
   "outputs": [],
   "source": [
    "example_list = [\"Cow\",\"Monkey\",\"Wold\",\"Bird\",\"Snake\",\"Mause\",\"Cat\",\"Fish\",\"Elphant\"]\n",
    "print(example_list[::2]) # -> Listenin içindeki değerleri 2 şer 2 şer okur, şöyle düşünün [başlangıç:son yer:ilerleme şekli]"
   ]
  },
  {
   "cell_type": "code",
   "execution_count": null,
   "metadata": {},
   "outputs": [],
   "source": [
    "example_list = [\"Cow\",\"Monkey\",\"Wold\",\"Bird\",\"Snake\",\"Mause\",\"Cat\",\"Fish\",\"Elphant\"]\n",
    "print(example_list[::-1]) # -> Tersten okuyarak gelir."
   ]
  },
  {
   "cell_type": "code",
   "execution_count": null,
   "metadata": {},
   "outputs": [],
   "source": [
    "long_list = [0,1,2,3,4,5,6,7,8,9,10]\n",
    "print(len(long_list)-1) # -> Listlenin içindeki değer sayısının verir -1 demezsek hata alabiliriz çünkü makine 0 ile başlar."
   ]
  },
  {
   "cell_type": "markdown",
   "metadata": {},
   "source": [
    "Bunların dışında diğer basit işlemler var kendi içinde, liste birleştirme, çoğaltma, indeks değiştirme ve eşitleme gibi."
   ]
  },
  {
   "cell_type": "code",
   "execution_count": null,
   "metadata": {},
   "outputs": [],
   "source": [
    "first_list = [1,2,3,4,5]\n",
    "second_list = [6,7,8,9,10]\n",
    "new_list = first_list + second_list # -> Listeleri burada birleştirdik.\n",
    "print(new_list)"
   ]
  },
  {
   "cell_type": "code",
   "execution_count": null,
   "metadata": {},
   "outputs": [],
   "source": [
    "mult_list = [1,2,3]\n",
    "new_list = mult_list * 3  # -> İstediğimiz listeyi çarparak içindeki değerleri çoğaltabiliriz.\n",
    "print(new_list)"
   ]
  },
  {
   "cell_type": "code",
   "execution_count": null,
   "metadata": {},
   "outputs": [],
   "source": [
    "change_list = [\"Ali\",\"Muhammed\",\"Coşkun\",\"Cevdet\"]\n",
    "want_change = \"Putin\"  # -> Değiştirmek istediğimiz yeni isim.\n",
    "change_list[1] = want_change # -> Kaçıncı indekteki değeri değiştireceğimiz liste içine indeksini giriyoruz ve istenilen değere eşitliyoruz.\n",
    "print(change_list)\n",
    "\n",
    "# Daha fazla değer ile değiştireceksek eğer \n",
    "change_again = [1,2,3,4,5,6,7,8,9]\n",
    "change_again[:3] = [20,30,40] # -> Bu şekilde birden fazla değeri değiştiririz.\n",
    "print(change_again)"
   ]
  },
  {
   "cell_type": "markdown",
   "metadata": {},
   "source": [
    "---"
   ]
  },
  {
   "cell_type": "markdown",
   "metadata": {},
   "source": [
    "#### Temel Liste Metotları"
   ]
  },
  {
   "cell_type": "markdown",
   "metadata": {},
   "source": [
    "Listelerin de kendine özel kullanıcılara kolaylık sağlaması için bir çok fonksiyonları veya metotları vardır bunlar kabaca, append(), pop(), sort(), insert(), extends() ve  extend() olarak söyleyebiliriz."
   ]
  },
  {
   "cell_type": "markdown",
   "metadata": {},
   "source": [
    "##### Fonksiyon append(), pop() & sort()"
   ]
  },
  {
   "cell_type": "markdown",
   "metadata": {},
   "source": [
    "- **append():** *bu fonksiyonumuz istenilen listenin içine, istenilen değişkeni atmaya yarar.*"
   ]
  },
  {
   "cell_type": "code",
   "execution_count": null,
   "metadata": {},
   "outputs": [],
   "source": [
    "adding_list = [1,2,3,4,5,6]\n",
    "adding_list.append(7) # -> yukarıdaki listeye 7 sayısını da ekliyoruz.\n",
    "print(adding_list)\n",
    "\n",
    "adding_list.append(\"Memnün\") # -> String türleri de atabiliriz.\n",
    "print(adding_list)"
   ]
  },
  {
   "cell_type": "markdown",
   "metadata": {},
   "source": [
    "- **pop():** *Bu metod, içine değer vermezsek listenin son indeksindeki elemanı, değer verirsek verdiğimiz değere karşılık gelen indeksteki elemanı listeden atar ve attığı elemanı ekrana basar.*"
   ]
  },
  {
   "cell_type": "code",
   "execution_count": null,
   "metadata": {},
   "outputs": [],
   "source": [
    "remove_list = [1,2,3,4,5,6,7,\"Run\",\"Walk\",\"Jump\"]\n",
    "remove_list.pop() # -> Listenin sonundaki değeri atacaktır\n",
    "print(remove_list)\n",
    "\n",
    "removed = remove_list.pop(6) # -> İçine verdiğimiz değer indeksini listeden atacaktır\n",
    "print(removed) # -> Çıktı olarak da gösterecektir atılan değeri"
   ]
  },
  {
   "cell_type": "markdown",
   "metadata": {},
   "source": [
    "- **sort():** *sort metodu listenin elemanlarını sıralamamızı sağlar. Hemen kullanımına bakalım.*"
   ]
  },
  {
   "cell_type": "code",
   "execution_count": null,
   "metadata": {},
   "outputs": [],
   "source": [
    "mix_list = [5,3,8,1,9,11,64,13,99,121]\n",
    "mix_list.sort() # -> Küçükten büyüğe doğru sıralar sayıları\n",
    "print(mix_list) \n",
    "\n",
    "mix_list.sort(reverse=True) # -> Büyükten küçüğe doğru saıralar\n",
    "print(mix_list)"
   ]
  },
  {
   "cell_type": "code",
   "execution_count": null,
   "metadata": {},
   "outputs": [],
   "source": [
    "word_list = [\"Araba\",\"Bisiklet\",\"Uçak\",\"Tren\",\"Motor\",\"Scooter\"]\n",
    "word_list.sort() # -> Alfabetik olarak büyükten küçüğe doğru sıralar\n",
    "print(word_list)\n",
    "\n",
    "word_list.sort(reverse=True) # -> Tersten sıralar\n",
    "print(word_list) "
   ]
  },
  {
   "cell_type": "markdown",
   "metadata": {},
   "source": [
    "##### Fonksiyon insert(), extends() & extend()"
   ]
  },
  {
   "cell_type": "markdown",
   "metadata": {},
   "source": [
    "- **insert():** *istenilen değeri liste içinde istenilen indekse yerleştirir ve diğer değerleri bir indeks kaydırır.*"
   ]
  },
  {
   "cell_type": "code",
   "execution_count": null,
   "metadata": {},
   "outputs": [],
   "source": [
    "exp_list = [\"apple\", \"banana\", \"cherry\"]\n",
    "exp_list.insert(1, \"orange\")\n",
    "print(exp_list)"
   ]
  },
  {
   "cell_type": "markdown",
   "metadata": {},
   "source": [
    "- **extends():** *İki farklı listeyi birleştiren bir fonksiyondur.*"
   ]
  },
  {
   "cell_type": "code",
   "execution_count": null,
   "metadata": {},
   "outputs": [],
   "source": [
    "first_list = [\"apple\", \"banana\", \"cherry\"]\n",
    "second_list = [\"mango\", \"pineapple\", \"papaya\"]\n",
    "first_list.extend(second_list) # -> first_list listesine second_list listesini birleştirdi\n",
    "print(first_list)"
   ]
  },
  {
   "cell_type": "markdown",
   "metadata": {},
   "source": [
    "- **extend():** *Farklı tipteki listeleri birleştirir.*"
   ]
  },
  {
   "cell_type": "code",
   "execution_count": null,
   "metadata": {},
   "outputs": [],
   "source": [
    "liste = [\"apple\", \"banana\", \"cherry\"]\n",
    "tuple_liste = (\"kiwi\", \"orange\")\n",
    "liste.extend(tuple_liste) # -> tuple titpindeki listeyi liste tipindeki listenin içine değerlerini attı.\n",
    "print(liste)"
   ]
  },
  {
   "cell_type": "markdown",
   "metadata": {},
   "source": [
    "---"
   ]
  },
  {
   "cell_type": "markdown",
   "metadata": {},
   "source": [
    "#### İç içe Listeler"
   ]
  },
  {
   "cell_type": "markdown",
   "metadata": {},
   "source": [
    "Bir listenin içinde başka bir liste bulundurmak mümkündür. Bunlara Python'da iç içe listeler denmektedir. Bu tip bir özellik, Python'da ağaç yapılarında veya matris yapılarında oldukça kullanışlı olmaktadır."
   ]
  },
  {
   "cell_type": "code",
   "execution_count": null,
   "metadata": {},
   "outputs": [],
   "source": [
    "# 3 Tane liste oluşturalım.\n",
    "\n",
    "liste1 = [1,2,3]\n",
    "liste2 = [4,5,6]\n",
    "liste3 = [7,8,9]\n",
    "\n",
    "yeniliste = [liste1,liste2,liste3]\n",
    "print(yeniliste)"
   ]
  },
  {
   "cell_type": "markdown",
   "metadata": {},
   "source": [
    "Şimdi, 2. listenin ilk elemanına nasıl ulaşacağımıza bakalım."
   ]
  },
  {
   "cell_type": "code",
   "execution_count": null,
   "metadata": {},
   "outputs": [],
   "source": [
    "yeniliste[1][0]"
   ]
  },
  {
   "cell_type": "markdown",
   "metadata": {},
   "source": [
    "Daha ayrıntılı bir şekilde fonksiyonları gözden geçirmek istiyorsanız;\n",
    "\n",
    "-> https://www.w3schools.com/python/python_lists_methods.asp"
   ]
  }
 ],
 "metadata": {
  "kernelspec": {
   "display_name": "Python 3",
   "language": "python",
   "name": "python3"
  },
  "language_info": {
   "codemirror_mode": {
    "name": "ipython",
    "version": 3
   },
   "file_extension": ".py",
   "mimetype": "text/x-python",
   "name": "python",
   "nbconvert_exporter": "python",
   "pygments_lexer": "ipython3",
   "version": "3.11.5"
  }
 },
 "nbformat": 4,
 "nbformat_minor": 2
}
