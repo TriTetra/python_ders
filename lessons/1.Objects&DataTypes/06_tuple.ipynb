{
 "cells": [
  {
   "cell_type": "markdown",
   "metadata": {},
   "source": [
    "# Tuple\n",
    "Bu veri tipimiz ile liste neredeyse aynı özellikleri barındırır, yalnız listenin aksine tuple'ın içindeki değerler değiştirilemez, sadece okumaya izin verir. Tuple oluşturmak için herhangi bir işarete ihtiyaç yoktur ama çoğunlukla parantezler kullanılır ki diğer liste tiplerinden ayırabilelim.\n",
    "Tuple listeye oranla daha az kullanılır çünkü değiştirilemez olmasından kaynaklı olarak ama bazı konularda listeye oranla daha avatajlıdır, bazı değiştirilmesi istenilmeyen veriler tuple ile saklanabilir.\n",
    "\n",
    "Öğrenceğimiz başlıklara bakalım;\n",
    "- Tuple oluşturma\n",
    "- Indeks işlemleri\n"
   ]
  },
  {
   "cell_type": "markdown",
   "metadata": {},
   "source": [
    "---"
   ]
  },
  {
   "cell_type": "markdown",
   "metadata": {},
   "source": [
    "#### Tuple Oluşturma"
   ]
  },
  {
   "cell_type": "markdown",
   "metadata": {},
   "source": [
    "Tuple \"()\" sembolünün içine değerler veya verileri alarak oluşturulur (kullanılmasa da olur). İçine bir çok farklı değer veri tipi alabilir."
   ]
  },
  {
   "cell_type": "code",
   "execution_count": null,
   "metadata": {},
   "outputs": [],
   "source": [
    "first = (\"apple\", \"banana\", \"cherry\")\n",
    "print(\"Veri: {}, tipi: {}\".format(first,type(first)))"
   ]
  },
  {
   "cell_type": "markdown",
   "metadata": {},
   "source": [
    "Tuple oluştururken paranteze ihtiyaç duyulmaz sadece karıştırılmaması için parantezler koyulur, gelin örnekte bakalım."
   ]
  },
  {
   "cell_type": "code",
   "execution_count": null,
   "metadata": {},
   "outputs": [],
   "source": [
    "second = \"apple\",\"banana\",\"cherry\"\n",
    "print(\"Veri: {}, tipi: {}\".format(second,type(second)))"
   ]
  },
  {
   "cell_type": "markdown",
   "metadata": {},
   "source": [
    "Tuple da listelere benzer özellikleri vardır, boş bir tuple olabilir, birden fazla aynı veriler verilebilir ve vb gibi.., ama şöyle bir şey var tek bir veri olacak şekilde bir tuple oluşturduysak dikkat edilmesi gereken nokta var, inceleyelim;"
   ]
  },
  {
   "cell_type": "code",
   "execution_count": null,
   "metadata": {},
   "outputs": [],
   "source": [
    "length = (\"apple\", \"banana\", \"cherry\")\n",
    "print(len(length)) # -> len() fonksiyonu ile kaç veri içerisinde olduğunu görebiliriz."
   ]
  },
  {
   "cell_type": "code",
   "execution_count": null,
   "metadata": {},
   "outputs": [],
   "source": [
    "repeat = tuple(\"apple\", \"banana\", \"cherry\", \"apple\", \"cherry\") # -> Bu şekilde de tuple oluşturulabilir.\n",
    "print(repeat) # -> Aynı değerler verilebilir içerisine."
   ]
  },
  {
   "cell_type": "code",
   "execution_count": null,
   "metadata": {},
   "outputs": [],
   "source": [
    "this_tuple = \"apple\",  # -> tek değerli bir tuple oluşturduysak değerin sonuna virgül koymalıyız\n",
    "print(type(this_tuple))\n",
    "\n",
    "this_tuple = \"apple\"  # -> Görüdğünüz gibi burada bu değer tuple olarak geçmiyor.\n",
    "print(type(this_tuple))"
   ]
  },
  {
   "cell_type": "code",
   "execution_count": null,
   "metadata": {},
   "outputs": [],
   "source": [
    "tuple1 = \"apple\", \"banana\", \"cherry\"\n",
    "tuple2 = 1, 5, 7, 9, 3\n",
    "tuple3 = True, False, False\n",
    "print(tuple1 + tuple2 + tuple3) # -> Farklı veri tipleri alabilir tuple içine ve bu tuplelar toplanabilir \n",
    "\n",
    "value_type = tuple1 + tuple2 + tuple3\n",
    "print(type(value_type))  # -> Sonuç veri tipi aynı değerler toplanırsa dahi tuple olarak kalır."
   ]
  },
  {
   "cell_type": "markdown",
   "metadata": {},
   "source": [
    "---"
   ]
  },
  {
   "cell_type": "markdown",
   "metadata": {},
   "source": [
    "#### Indeks İşlemleri"
   ]
  },
  {
   "cell_type": "markdown",
   "metadata": {},
   "source": [
    "Tuple içindeki değerleri okumak veya indeklerini dolaşmak için ne yapabiliriz bakalım;"
   ]
  },
  {
   "cell_type": "code",
   "execution_count": null,
   "metadata": {},
   "outputs": [],
   "source": [
    "animals = \"Dog\",\"Bird\",\"Wolf\",\"Bear\",\"Cat\",\"Cow\"\n",
    "first_indeks = animals[0]\n",
    "second_indeks = animals[1]\n",
    "third_indeks = animals[2]\n",
    "last_indeks = animals[-1]\n",
    "# -> Tuple içinden istediğimiz indeks sayısının girerek o değeri okuyabiliriz.\n",
    "print(\"İlk: {}, ikinci: {}, üçüncü: {}\".format(first_indeks,second_indeks,third_indeks))\n",
    "print(\"Sonuncu: {}\".format(last_indeks))"
   ]
  },
  {
   "cell_type": "code",
   "execution_count": null,
   "metadata": {},
   "outputs": [],
   "source": [
    "example_tuple = \"Cow\",\"Monkey\",\"Wold\",\"Bird\",\"Snake\"\n",
    "print(example_tuple[:3]) # -> Sadece verilen indeksten bir eksik olacak şekilde alır."
   ]
  },
  {
   "cell_type": "code",
   "execution_count": null,
   "metadata": {},
   "outputs": [],
   "source": [
    "example_tuple = \"Cow\",\"Monkey\",\"Wold\",\"Bird\",\"Snake\"\n",
    "print(example_tuple[3:]) # -> sola girilen yer başlangıç ve o değer dahil olarak okur ama sağda girilen değer dahil olmaksızın alır."
   ]
  },
  {
   "cell_type": "code",
   "execution_count": null,
   "metadata": {},
   "outputs": [],
   "source": [
    "example_tuple = \"Cow\",\"Monkey\",\"Wold\",\"Bird\",\"Snake\",\"Mause\",\"Cat\",\"Fish\",\"Elphant\"\n",
    "print(example_tuple[::2]) # -> Tuple içindeki değerleri 2 şer 2 şer okur, şöyle düşünün [başlangıç:son yer:ilerleme şekli]"
   ]
  },
  {
   "cell_type": "code",
   "execution_count": null,
   "metadata": {},
   "outputs": [],
   "source": [
    "example_tuple = \"Cow\",\"Monkey\",\"Wold\",\"Bird\",\"Snake\",\"Mause\",\"Cat\",\"Fish\",\"Elphant\"\n",
    "print(example_tuple[::-1]) # -> Tersten okuyarak gelir."
   ]
  }
 ],
 "metadata": {
  "kernelspec": {
   "display_name": "Python 3",
   "language": "python",
   "name": "python3"
  },
  "language_info": {
   "codemirror_mode": {
    "name": "ipython",
    "version": 3
   },
   "file_extension": ".py",
   "mimetype": "text/x-python",
   "name": "python",
   "nbconvert_exporter": "python",
   "pygments_lexer": "ipython3",
   "version": "3.11.5"
  }
 },
 "nbformat": 4,
 "nbformat_minor": 2
}
