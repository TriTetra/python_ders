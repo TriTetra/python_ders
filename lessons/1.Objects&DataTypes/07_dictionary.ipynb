{
 "cells": [
  {
   "cell_type": "markdown",
   "metadata": {},
   "source": [
    "# Sözlükler (Dictionary)"
   ]
  },
  {
   "cell_type": "markdown",
   "metadata": {},
   "source": [
    "Sözlükler veya İngilizce adıyla \"dictionaries\" (dictionaryler), gerçek hayattaki sözlüklerle benzer şekilde davranan bir veri tipidir. Bu veri tipi, şimdiye kadar gördüğümüz diğer veri tiplerinden farklı bir yapıya sahiptir. Sözlükler, içerisindeki her elemanı indeks yerine anahtar (key) ve değer (value) çifti olarak saklar. Bu özellik, gerçek hayattaki sözlüklerin organizasyon şekline oldukça benzemektedir.\n",
    "\n",
    "Örneğin, bir İngilizce-Türkçe sözlükte \"freedom\" kelimesini aradığınızda, bu kelimenin karşılığı olan \"özgürlük\" değeri anahtar-değer çifti olarak bulunur. Sözlüklerde her bir anahtar, karşılık gelen değeri temsil eder. Bu yapı, sözlükleri kullanırken belirli bir anahtarı kullanarak hızlı bir şekilde değere erişme avantajı sağlar.\n",
    "\n",
    "Öğreneceğimiz başlıklara bakalım;\n",
    "- Dictionary Oluşturmak\n",
    "- Sözlük Değerlerine Erişmek ve Sözlüğe Değer Eklemek\n",
    "- İç İçe Sözlükler\n",
    "- Temel Dictionary Fonksiyonları"
   ]
  },
  {
   "cell_type": "markdown",
   "metadata": {},
   "source": [
    "---"
   ]
  },
  {
   "cell_type": "markdown",
   "metadata": {},
   "source": [
    "#### Dictionary Oluşturmak"
   ]
  },
  {
   "cell_type": "markdown",
   "metadata": {},
   "source": [
    "Python'da bir sözlük tanımlamak için süslü parantez {} kullanılır ve anahtar-değer çiftleri virgülle ayrılır. Sözlükler, genellikle çeşitli bilgi türlerini gruplamak, ilişkilendirmek veya depolamak için kullanılır. Örneğin, bir öğrenci sözlüğü içinde öğrenci adları anahtarlar, karşılık gelen notlar ise değerler olarak kullanılabilir. Bu şekilde, her öğrencinin adıyla ilişkilendirilmiş bir not değeri bulunabilir."
   ]
  },
  {
   "cell_type": "code",
   "execution_count": null,
   "metadata": {},
   "outputs": [],
   "source": [
    "this_dict = {\n",
    "  \"brand\": \"Ford\",\n",
    "  \"model\": \"Mustang\",\n",
    "  \"year\": 1964\n",
    "}\n",
    "\n",
    "print(this_dict)\n",
    "print(type(this_dict))"
   ]
  },
  {
   "cell_type": "code",
   "execution_count": null,
   "metadata": {},
   "outputs": [],
   "source": [
    "# -> Boş bir sölük yani dictionary de oluşturulabilir.\n",
    "new_dict = dict()\n",
    "# VEYA\n",
    "exp_dict = {} \n",
    "# -> Bu şekilde de iki şekilde dictionary oluşturulabilir isterseniz bakalım\n",
    "\n",
    "print(type(new_dict)) \n",
    "print(type(exp_dict)) # -> Sonuç olarak tür dictionary olur"
   ]
  },
  {
   "cell_type": "markdown",
   "metadata": {},
   "source": [
    "---"
   ]
  },
  {
   "cell_type": "markdown",
   "metadata": {},
   "source": [
    "#### Sözlük Değerlerine Erişmek ve Sözlüğe Değer Eklemek"
   ]
  },
  {
   "cell_type": "markdown",
   "metadata": {},
   "source": [
    "Sözlük öğeleri sıralıdır, değiştirilebilir ve tekrarlamalara izin verilmez. Dictionary, anahtar-değer çiftleri şeklinde sunulur ve anahtar adını kullanarak o değere ulaşılabilir.\n",
    "\n",
    "Bu veri tipimizin gerçek hayattaki sözlüklere çok benzediğini söylemiştik. Öyleyse, bir değeri (value) elde etmek için, indeksleri değil anahtarları (key) kullanacağız.\n",
    "\n",
    "    Dictionary = { Value:Key} \n",
    "\n",
    "Bu şekilde mantık olarak düşünün"
   ]
  },
  {
   "cell_type": "code",
   "execution_count": null,
   "metadata": {},
   "outputs": [],
   "source": [
    "person_info = {\n",
    "    \"name\":\"Riza\",\n",
    "    \"Soyad\":\"Muhammed\",\n",
    "    \"Doğum\":\"07.07.1987\",\n",
    "    \"Doğum yeri\":\"Isparta\"\n",
    "}\n",
    "\n",
    "name = person_info[\"name\"]     # -> sözlüğümüz de name value değerimize denk gelen key yani anahtar cümleye ulaşıyoruz.\n",
    "surname = person_info[\"Soyad\"]\n",
    "birth = person_info[\"Doğum\"]\n",
    "birth_place = person_info[\"Doğum yeri\"]\n",
    "\n",
    "print(name,surname,birth,birth_place)"
   ]
  },
  {
   "cell_type": "code",
   "execution_count": null,
   "metadata": {},
   "outputs": [],
   "source": [
    "#-> Aşağıdaki gibi de karmaşık veya key olarak bir den fazla değer atayabiliriz.\n",
    "a = {\"bir\" : [1,2,3,4], \"iki\": [[1,2],[3,4],[5,6]],\"üç\" : 15}\n",
    "\n",
    "print(a[\"bir\"])\n",
    "print(a[\"iki\"])\n",
    "print(a[\"üç\"])"
   ]
  },
  {
   "cell_type": "code",
   "execution_count": null,
   "metadata": {},
   "outputs": [],
   "source": [
    "# -> Sözlüğe yeni değer de ekleyebiliriz \n",
    "dict_add = {\"bir\":1,\"iki\":2,\"Üç\":3,\"Dört\":4}\n",
    "\n",
    "# -> Sözlüğümüze bir göz atalım\n",
    "print(dict_add)\n",
    "\n",
    "dict_add[\"Beş\"] = 5 # -> Sözlüğümüzde Beş adında bir value oluşturduk ve bunun key i olarak 5 i eşitledik \n",
    "\n",
    "print(dict_add) # -> Son hali"
   ]
  },
  {
   "cell_type": "markdown",
   "metadata": {},
   "source": [
    "---"
   ]
  },
  {
   "cell_type": "markdown",
   "metadata": {},
   "source": [
    "#### İç İçe Sözlükler"
   ]
  },
  {
   "cell_type": "markdown",
   "metadata": {},
   "source": [
    "İç içe (nested) sözlükler, bir sözlük içinde başka bir sözlüğü içeren bir yapıdır. Bu, karmaşık veri organizasyonları oluşturmanıza ve daha geniş bir veri yelpazesini temsil etmenize olanak tanır. İç içe sözlükler, bir anahtarın karşılık geldiği değer olarak bir başka sözlüğü içerebilir."
   ]
  },
  {
   "cell_type": "code",
   "execution_count": null,
   "metadata": {},
   "outputs": [],
   "source": [
    "# İç içe sözlük örneği\n",
    "isci_bilgileri = {\n",
    "    'isci1': {\n",
    "        'ad': 'Ahmet',\n",
    "        'soyad': 'Yilmaz',\n",
    "        'maas': 5000\n",
    "    },\n",
    "    'isci2': {\n",
    "        'ad': 'Ayşe',\n",
    "        'soyad': 'Demir',\n",
    "        'maas': 6000\n",
    "    },\n",
    "    'isci3': {\n",
    "        'ad': 'Mehmet',\n",
    "        'soyad': 'Kara',\n",
    "        'maas': 5500\n",
    "    }\n",
    "}\n",
    "\n",
    "# İç içe sözlükten veri çekme\n",
    "maas_isci2 = isci_bilgileri['isci2']['maas']\n",
    "print(f\"Ayşe'nin maaşi: {maas_isci2}\")\n"
   ]
  },
  {
   "cell_type": "markdown",
   "metadata": {},
   "source": [
    "---"
   ]
  },
  {
   "cell_type": "markdown",
   "metadata": {},
   "source": [
    "#### Temel Dictionary Fonksiyonları"
   ]
  },
  {
   "cell_type": "markdown",
   "metadata": {},
   "source": [
    "Python'da sözlüklerle çalışırken kullanabileceğiniz temel bazı sözlük metodları vardır. İşte bu metodlardan bazıları:"
   ]
  },
  {
   "cell_type": "markdown",
   "metadata": {},
   "source": [
    "1. **clear():** *Sözlüğün tüm elemanlarını siler.*"
   ]
  },
  {
   "cell_type": "code",
   "execution_count": null,
   "metadata": {},
   "outputs": [],
   "source": [
    "sozluk = {'anahtar1': 'deger1', 'anahtar2': 'deger2'}\n",
    "sozluk.clear()\n",
    "print(sozluk)  # Çıktı: {}"
   ]
  },
  {
   "cell_type": "markdown",
   "metadata": {},
   "source": [
    "2. **copy():** *Sözlüğün bir kopyasını oluşturur.*"
   ]
  },
  {
   "cell_type": "code",
   "execution_count": null,
   "metadata": {},
   "outputs": [],
   "source": [
    "orijinal_sozluk = {'anahtar1': 'deger1', 'anahtar2': 'deger2'}\n",
    "kopya_sozluk = orijinal_sozluk.copy()"
   ]
  },
  {
   "cell_type": "markdown",
   "metadata": {},
   "source": [
    "3. **keys():** *Sözlükteki tüm anahtarları içeren bir liste döndürür.*"
   ]
  },
  {
   "cell_type": "code",
   "execution_count": null,
   "metadata": {},
   "outputs": [],
   "source": [
    "sozluk = {'anahtar1': 'deger1', 'anahtar2': 'deger2'}\n",
    "anahtarlar = sozluk.keys()"
   ]
  },
  {
   "cell_type": "markdown",
   "metadata": {},
   "source": [
    "4. **values():** *Sözlükteki tüm değerleri içeren bir liste döndürür.*"
   ]
  },
  {
   "cell_type": "code",
   "execution_count": null,
   "metadata": {},
   "outputs": [],
   "source": [
    "sozluk = {'anahtar1': 'deger1', 'anahtar2': 'deger2'}\n",
    "degerler = sozluk.values()"
   ]
  },
  {
   "cell_type": "markdown",
   "metadata": {},
   "source": [
    "5. **items():** *Sözlükteki tüm anahtar-değer çiftlerini içeren bir liste döndürür.*"
   ]
  },
  {
   "cell_type": "code",
   "execution_count": null,
   "metadata": {},
   "outputs": [],
   "source": [
    "sozluk = {'anahtar1': 'deger1', 'anahtar2': 'deger2'}\n",
    "ciftler = sozluk.items()"
   ]
  }
 ],
 "metadata": {
  "kernelspec": {
   "display_name": "Python 3",
   "language": "python",
   "name": "python3"
  },
  "language_info": {
   "codemirror_mode": {
    "name": "ipython",
    "version": 3
   },
   "file_extension": ".py",
   "mimetype": "text/x-python",
   "name": "python",
   "nbconvert_exporter": "python",
   "pygments_lexer": "ipython3",
   "version": "3.11.5"
  }
 },
 "nbformat": 4,
 "nbformat_minor": 2
}
