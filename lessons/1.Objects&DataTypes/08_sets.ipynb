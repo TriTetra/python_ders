{
 "cells": [
  {
   "cell_type": "markdown",
   "metadata": {},
   "source": [
    "# Kümler (Sets)"
   ]
  },
  {
   "cell_type": "markdown",
   "metadata": {},
   "source": [
    "Python'da, bir küme (set), **sırasız ve benzersiz** elemanlardan oluşan bir koleksiyon veri tipidir. Küme elemanları, sırasız oldukları için bir **indeksleri yoktur** ve bu nedenle indeksleme veya dilimleme gibi işlemler yapılamaz. \n",
    "\n",
    "Ancak, küme, elemanların benzersiz olması nedeniyle genellikle benzersiz elemanları takip etmek veya iki küme arasındaki farkı bulmak gibi durumlarda kullanılır.\n",
    "\n",
    "Öğreneceğimiz başlıklara bakalım;\n",
    "- Küme Oluşturmak\n",
    "- Küme Özellikleri"
   ]
  },
  {
   "cell_type": "markdown",
   "metadata": {},
   "source": [
    "---"
   ]
  },
  {
   "cell_type": "markdown",
   "metadata": {},
   "source": [
    "#### Küme Oluşturmak"
   ]
  },
  {
   "cell_type": "markdown",
   "metadata": {},
   "source": [
    "Burada bir sözlük oluşturmak istersek eğer aynı diğer verilerimizde yaptığımız gibi bir değere set() atayabiliriz veya sözlük oluşturmak için {} arasına değişkenlerimizi yazarız."
   ]
  },
  {
   "cell_type": "code",
   "execution_count": null,
   "metadata": {},
   "outputs": [],
   "source": [
    "this_set = {\"Mavi\",\"Mor\",\"Sarı\",\"Yeşil\",\"Siyah\",\"Gri\"}\n",
    "print(type(this_set)) # -> Bu şekilde oluşturulabilir set\n",
    "\n",
    "# VEYA \n",
    "\n",
    "exp_set = set([\"Bir\",\"İki\",\"Üç\",\"Dört\",\"Beş\",\"Altı\"])\n",
    "print(type(exp_set)) # -> Her iki şekilde de set veya küme oluşturabiliriz.\n",
    "\n",
    "print(this_set,exp_set) # -> Kümeleri okuyalım bakalım"
   ]
  },
  {
   "cell_type": "markdown",
   "metadata": {},
   "source": [
    "Kümelerde listeler gibi bir çok farklı veri tipi içerebilir, karışık bir şekilde de oluşturulabilir."
   ]
  },
  {
   "cell_type": "code",
   "execution_count": null,
   "metadata": {},
   "outputs": [],
   "source": [
    "set_mix = {\"Bir\",2,\"Üç\",4,5.67,\"Sekiz\",True} # -> Bu şekilde de bir küme oluşturulabilir"
   ]
  },
  {
   "cell_type": "markdown",
   "metadata": {},
   "source": [
    "---"
   ]
  },
  {
   "cell_type": "markdown",
   "metadata": {},
   "source": [
    "#### Küme Özellikleri"
   ]
  },
  {
   "cell_type": "markdown",
   "metadata": {},
   "source": [
    "1. **Sırasız (Unordered):** Küme içindeki öğelerin belirli bir sırası yoktur. Her seferinde kümeyi kullandığınızda öğeler farklı bir sırayla görünebilir ve öğelere indeks veya anahtar kullanarak başvurulamaz.\n",
    "\n",
    "2. **Değiştirilemez (Unchangeable):** Küme öğeleri değiştirilemez, yani bir küme oluşturulduktan sonra öğelerini değiştiremezsiniz. Ancak, öğeleri silebilir veya yeni öğeler ekleyebilirsiniz.\n",
    "\n",
    "3. **Tekrarlamalara İzin Vermez (Duplicates Not Allowed):** Küme içinde aynı öğenin birden fazla kez bulunmasına izin verilmez. Her öğe kümede benzersiz olmalıdır."
   ]
  },
  {
   "cell_type": "code",
   "execution_count": null,
   "metadata": {},
   "outputs": [],
   "source": [
    "# Sırasız ve Tekrarlamalara İzin Vermez\n",
    "ornek_kume = {\"Elma\", \"Armut\", \"Çilek\", \"Elma\", \"Muz\"}\n",
    "\n",
    "# Kümenin içeriğini yazdırma\n",
    "print(\"Küme:\", ornek_kume)\n",
    "\n",
    "# Kümenin elemanlarına indeks veya anahtar kullanarak erişme (hata verecektir)\n",
    "# print(ornek_kume[0])\n",
    "\n",
    "# Kümeden bir elemanı silme\n",
    "ornek_kume.remove(\"Elma\")\n",
    "\n",
    "# Yeni bir eleman ekleme\n",
    "ornek_kume.add(\"Portakal\")\n",
    "\n",
    "# Değiştirilmiş kümenin içeriğini yazdırma\n",
    "print(\"Değiştirilmiş Küme:\", ornek_kume)\n"
   ]
  }
 ],
 "metadata": {
  "kernelspec": {
   "display_name": "base",
   "language": "python",
   "name": "python3"
  },
  "language_info": {
   "codemirror_mode": {
    "name": "ipython",
    "version": 3
   },
   "file_extension": ".py",
   "mimetype": "text/x-python",
   "name": "python",
   "nbconvert_exporter": "python",
   "pygments_lexer": "ipython3",
   "version": "3.11.5"
  }
 },
 "nbformat": 4,
 "nbformat_minor": 2
}
