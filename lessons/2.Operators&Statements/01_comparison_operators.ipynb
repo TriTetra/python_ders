{
 "cells": [
  {
   "cell_type": "markdown",
   "metadata": {},
   "source": [
    "# Karşılaştırma Operatörleri"
   ]
  },
  {
   "cell_type": "markdown",
   "metadata": {},
   "source": [
    "\n",
    "Karşılaştırma operatörleri, programlama dillerinde iki değeri karşılaştırmak ve belirli koşulları kontrol etmek amacıyla kullanılır. Bu operatörler, koşullu ifadeler oluşturmak, akış kontrolü sağlamak ve programın belirli durumlara göre farklı davranışlar sergilemesini sağlamak için önemlidir."
   ]
  },
  {
   "cell_type": "markdown",
   "metadata": {},
   "source": [
    "---"
   ]
  },
  {
   "cell_type": "markdown",
   "metadata": {},
   "source": [
    "#### Karşılaştırma Tablosu"
   ]
  },
  {
   "cell_type": "markdown",
   "metadata": {},
   "source": [
    "| Operatör | Görevi                                              | Örnek                  |\n",
    "|----------|-----------------------------------------------------|------------------------|\n",
    "| ==       | İki değer birbirine eşitse True, değilse False     | 2 == 2 (True), 2 == 3 (False) |\n",
    "| !=       | İki değer birbirine eşit değilse True, diğer durumda False | 2 != 2 (False), 2 != 3 (True) |\n",
    "| >        | Soldaki değer sağdaki değerden büyükse True, değilse False | 3 > 2 (True), 2 > 3 (False) |\n",
    "| <        | Soldaki değer sağdaki değerden küçükse True, değilse False | 2 < 3 (True), 3 < 2 (False) |\n",
    "| >=       | Soldaki değer sağdaki değerden büyükse veya sağdaki değere eşitse True, değilse False | 3 >= 2 (True), 3 >= 3 (True), 2 >= 3 (False) |\n",
    "| <=       | Soldaki değer sağdaki değerden küçükse veya sağdaki değere eşitse True, değilse False | 3 <= 2 (False), 3 <= 3 (True), 2 <= 3 (True) |\n"
   ]
  },
  {
   "cell_type": "markdown",
   "metadata": {},
   "source": [
    "Örneklerle inceleyelim;"
   ]
  },
  {
   "cell_type": "code",
   "execution_count": 1,
   "metadata": {},
   "outputs": [
    {
     "data": {
      "text/plain": [
       "True"
      ]
     },
     "execution_count": 1,
     "metadata": {},
     "output_type": "execute_result"
    }
   ],
   "source": [
    "\"Aslan\" == \"Aslan\" # -> Aslan ve Aslan değerleri birbirine eşittir True"
   ]
  },
  {
   "cell_type": "code",
   "execution_count": 2,
   "metadata": {},
   "outputs": [
    {
     "data": {
      "text/plain": [
       "False"
      ]
     },
     "execution_count": 2,
     "metadata": {},
     "output_type": "execute_result"
    }
   ],
   "source": [
    "\"Aslan\" == \"Kaplan\" # -> Aslan ve Kaplan değerleri birbirine eşittir False"
   ]
  },
  {
   "cell_type": "code",
   "execution_count": 3,
   "metadata": {},
   "outputs": [
    {
     "data": {
      "text/plain": [
       "True"
      ]
     },
     "execution_count": 3,
     "metadata": {},
     "output_type": "execute_result"
    }
   ],
   "source": [
    "\"Aslan\" != \"Kaplan\" # -> Aslan ve Kaplan değeri birbirine eşit değildir True"
   ]
  },
  {
   "cell_type": "code",
   "execution_count": 4,
   "metadata": {},
   "outputs": [
    {
     "data": {
      "text/plain": [
       "True"
      ]
     },
     "execution_count": 4,
     "metadata": {},
     "output_type": "execute_result"
    }
   ],
   "source": [
    "\"Balik\" < \"Kuş\" # -> Nümerik eşitliği ile karşılaştırılırlar"
   ]
  },
  {
   "cell_type": "code",
   "execution_count": 5,
   "metadata": {},
   "outputs": [
    {
     "data": {
      "text/plain": [
       "False"
      ]
     },
     "execution_count": 5,
     "metadata": {},
     "output_type": "execute_result"
    }
   ],
   "source": [
    "100 < 89"
   ]
  },
  {
   "cell_type": "code",
   "execution_count": 7,
   "metadata": {},
   "outputs": [
    {
     "data": {
      "text/plain": [
       "True"
      ]
     },
     "execution_count": 7,
     "metadata": {},
     "output_type": "execute_result"
    }
   ],
   "source": [
    "100 <= 100 "
   ]
  },
  {
   "cell_type": "code",
   "execution_count": 8,
   "metadata": {},
   "outputs": [
    {
     "data": {
      "text/plain": [
       "True"
      ]
     },
     "execution_count": 8,
     "metadata": {},
     "output_type": "execute_result"
    }
   ],
   "source": [
    "55 != 90"
   ]
  }
 ],
 "metadata": {
  "kernelspec": {
   "display_name": "base",
   "language": "python",
   "name": "python3"
  },
  "language_info": {
   "codemirror_mode": {
    "name": "ipython",
    "version": 3
   },
   "file_extension": ".py",
   "mimetype": "text/x-python",
   "name": "python",
   "nbconvert_exporter": "python",
   "pygments_lexer": "ipython3",
   "version": "3.11.5"
  }
 },
 "nbformat": 4,
 "nbformat_minor": 2
}
